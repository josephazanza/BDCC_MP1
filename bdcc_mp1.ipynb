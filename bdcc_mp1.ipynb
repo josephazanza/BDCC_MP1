{
 "cells": [
  {
   "cell_type": "code",
   "execution_count": 1,
   "metadata": {
    "ExecuteTime": {
     "end_time": "2020-11-02T06:56:15.184539Z",
     "start_time": "2020-11-02T06:56:15.168170Z"
    }
   },
   "outputs": [
    {
     "data": {
      "text/html": [
       "\n",
       "<script>\n",
       "code_show=true;\n",
       "function code_toggle() {\n",
       " if (code_show){\n",
       " $('div.input').hide();\n",
       " } else {\n",
       " $('div.input').show();\n",
       " }\n",
       " code_show = !code_show\n",
       "}\n",
       "$( document ).ready(code_toggle);\n",
       "</script>\n",
       "<form action=\"javascript:code_toggle()\">\n",
       "<input type=\"submit\" value=\"Click here to toggle on/off the raw code.\">\n",
       "</form>"
      ],
      "text/plain": [
       "<IPython.core.display.HTML object>"
      ]
     },
     "metadata": {},
     "output_type": "display_data"
    }
   ],
   "source": [
    "from IPython.core.display import HTML\n",
    "display(HTML(\"\"\"\n",
    "<script>\n",
    "code_show=true;\n",
    "function code_toggle() {\n",
    " if (code_show){\n",
    " $('div.input').hide();\n",
    " } else {\n",
    " $('div.input').show();\n",
    " }\n",
    " code_show = !code_show\n",
    "}\n",
    "$( document ).ready(code_toggle);\n",
    "</script>\n",
    "<form action=\"javascript:code_toggle()\">\n",
    "<input type=\"submit\" value=\"Click here to toggle on/off the raw code.\">\n",
    "</form>\"\"\"))"
   ]
  },
  {
   "cell_type": "markdown",
   "metadata": {},
   "source": [
    "# Finding patterns between emotional state and played songs\n"
   ]
  },
  {
   "cell_type": "markdown",
   "metadata": {},
   "source": [
    "## Executive Summary\n",
    "\n",
    "The study of music and emotions is well-explored in neuroscience, psychology, and physiology. However, experiments in these fields are usually time-consuming, costly, and have poor ability to scale as the technology researchers use, e.g. MRI, PET, EEG, ERP, etc., are usually designed to be conducted in a small-scale setting, focusing on one participant at a time. This can potentially limit the important basic research and preliminary studies that are required before delving into more complicated experiments. Here is where we thought we can apply Frequent Itemset Mining and Association Pattern Mining. More specifically we asked, \"can we utilize FIM and APM techniques to identify patterns and rules between emotions and songs, such that researchers in the fields of neuroscience, psychology, and physiology can adapt the project for use in their preliminary studies?\" If done right, instead of manually screening for the effect of songs, the researchers can use the mined patterns and rules as guidance for more targeted research.\n",
    "\n",
    "To build a proof of concept, we used the `#nowplaying-RS` dataset published by Poddar, Zangerle, and Yang in 2018. The dataset contains 11.6 million music listening events (LE) spanning the whole 2014, collected via Twitter. The dataset contains basic listening event information, Tweet information, track musicality (via Spotify API), and sentiment analysis results performed on the hashtags (by the original researchers). In building the pipeline, we first cleaned and preprocessed the sentiment data, choosing to keep data from the `SentiStrength` lexicon. We then joined the sentiment data to the basic listening event data, with the sentiment scores functioning as the emotion state per listening event. Further data cleaning was done on the hashtags and tweet language to ensure proper distribution and to keep English only tweets. The transactional database was then generated from the result of the preceding step.\n",
    "\n",
    "From the transactional database, we performed FIM and APM techniques, where we were able to recommend actionable insights such as:\n",
    "- FIM:\n",
    "    1. Exploring songs that invoke different emotions and how it translates to brain activity\n",
    "    2. Exploring how songs can potentially synergize positive emotions and identifying how this synergistic mechanism looks like in MRI / PET scans \n",
    "    3. Exploring how songs associated with negative emotions affect the brain and different patient demographics\n",
    "- APM:\n",
    "    1. Verifying the validity of a rule in an experimental manner. \n",
    "    2. For example, whether making patients listen to a song invoking sad emotions (`(ef356d7f3dcb4772dec2e5310ae5c398,) -> 0.375`, lift of `368.783984` would really translate to an invoked negative emotion in terms of brain activity.\n",
    "\n",
    "Overall, we were successful in finding patterns between emotions and songs. With the methodology and findings of this project, the researchers can then replicate, adapt, or tweak the study using their own databases of emotion states and songs. The flexibility offered by the methodology of the project gives the researchers the ability to have guided insights before performing experiments. These can potentially cut down time, cost, and the required effort in performing preliminary studies. In terms of recommendations, future studies can use a larger dataset with more time periods and more songs for better generalizability. The musical characteristics of each song can also be factored in for more interesting insights and rules."
   ]
  },
  {
   "cell_type": "markdown",
   "metadata": {},
   "source": [
    "## 1 Introduction\n",
    "\n",
    "The effect of music on emotions is a well-explored concept in the fields of neuroscience, psychology, and physiology. Experiments typically consist of listening exercises paired with brain imaging (via MRI or PET scan) to map and match the areas of the brain that activate in response to music. Other technologies that researchers use involve molecular markers and other signal readers such as the use of electroencephalography (EEG), even-related brain potentials (ERP), magnetoencephalography (MEG), skin conductance response (SCR), finger temperature, and goose bump development (piloerection), all of which help researchers identify information on the dynamics and kinetics of emotion (Schaefer, 2017).\n",
    "\n",
    "However, as advanced as these technologies are, there are obvious downsides, namely: these methods are time-consuming, expensive, and have poor scalability as the researchers can only focus on a handful of participants for a given timeframe. Manually taking measurements for around a hundred people will be costly, not just in terms of money and time but also on effort involved. The cost would even be greater for basic research and preliminary studies where the researchers would have to screen for songs first and their intended target, and then from the initial findings, pinpoint the direction they want to focus on. \n",
    "\n",
    "Here is where we thought we can leverage and apply Frequent Itemset Mining and Association Pattern Mining. Given a database of emotion states and songs listened to, researchers can perform FIM and APM in finding patterns and rules between emotion states and played songs. If done right, instead of spending time manually screening for the effect of songs, the researchers can use the mined patterns and rules as guidance for more targeted efforts. They can also focus more on the validation aspect of their studies. \n",
    "\n",
    "Given the `#nowplaying-RS` dataset, we than ask: can we utilize FIM and APM techniques to identify patterns and rules between emotions and songs, such that researchers in the fields of neuroscience, psychology, and physiology can replicate / adapt the project for use in their preliminary studies?"
   ]
  },
  {
   "cell_type": "markdown",
   "metadata": {},
   "source": [
    "### 1.1 Problem Statements\n",
    "\n",
    "More specifically, this project attemps to answer these questions:\n",
    "1. Can we find patterns between a user's emotional state and the songs they listen to? \n",
    "2. What recommendations can we give based on found patterns?"
   ]
  },
  {
   "cell_type": "markdown",
   "metadata": {
    "ExecuteTime": {
     "end_time": "2020-10-25T07:12:36.970914Z",
     "start_time": "2020-10-25T07:12:36.966931Z"
    }
   },
   "source": [
    "## 2 Data Description\n",
    "\n",
    "The dataset used in this study is the `#nowplaying-RS` dataset. The dataset was published by Poddar, Zangerle, and Yang in 2018. \n",
    "\n",
    "Overall, the dataset contains 11.6 million music listening events (LE) spanning the whole 2014. The listening events came from 139,000 users and there are around 346,000 unique tracks collected via Twitter. The dataset is separated into three csv files, namely the `user_track_hashtag_timestamp.csv`, the `context_content_features.csv`, and the `sentiment_values.csv`.\n",
    "\n",
    "The contents of each csv file is as follows:\n",
    "\n",
    "1. `user_track_hashtag_timestamp.csv` contains the basic information about each listening event, with a shape of `(17_560_113, 4)`. Note that a tweet is implied to be a unique listening event.\n",
    "    - `user_id`: unique user id of person who tweeted\n",
    "    - `track_id`: unique track id of song listened to (lifted from Spotify)\n",
    "    - `hashtag`: hashtag associated with the tweet\n",
    "    - `created_at`: timestamp of tweet / listening event\n",
    "\n",
    "\n",
    "2. `context_content_features.csv` contains all context and content features of the listening event. The shape of the dataset is `(11_614_671, 23)`\n",
    "    - Basic listening event information:\n",
    "        - `id`: unique event id\n",
    "        - `user_id`\n",
    "        - `track_id`\n",
    "        - `artist_id`\n",
    "    - Content features of the track (lifted from Spotify):\n",
    "        - `instrumentalness`\n",
    "        - `liveness`\n",
    "        - `speechiness`\n",
    "        - `danceability`\n",
    "        - `valence`\n",
    "        - `loudness`\n",
    "        - `tempo`\n",
    "        - `acousticness`\n",
    "        - `energy`\n",
    "        - `mode`\n",
    "        - `key`\n",
    "    - Context features of the listening event: \n",
    "        - `coordinates`: in geoJSON\n",
    "        - `place`: in geoJSON\n",
    "        - `geo`\n",
    "        - `tweet_language`\n",
    "        - `created_at`\n",
    "        - `user_lang`\n",
    "        - `time_zone`\n",
    "        - `entities`: entities contained in the tweet\n",
    "\n",
    "\n",
    "3. `sentiment_values.csv` contains all the unique hashtags and the corresponding sentiment values gathered via four different sentiment dictionaries. The minimum (`min`), maximum (`max`), `sum` and average (`avg`) of all sentiments of the tokens of the hashtag are also provided in the dataset. This dataset has a shape of `(5_290, 17)`.\n",
    "    - Vader (`vader`)\n",
    "    - AFINN (`afinn`)\n",
    "    - Opinion Lexicon (`ol`)\n",
    "    - Sentistrength  Lexicon (`ss`). \n"
   ]
  },
  {
   "attachments": {
    "image-2.png": {
     "image/png": "[encoded data removed]"
    }
   },
   "cell_type": "markdown",
   "metadata": {},
   "source": [
    "## 3 Methodology\n",
    "\n",
    "The high level methodology used in this study is as follows:\n",
    "\n",
    "![image-2.png](attachment:image-2.png)\n",
    "\n",
    "More detailed description:\n",
    "\n",
    "1. We want to convert the hashtags into emotions by leveraging the sentiment analysis done by Poddar, Zangerle, and Yang (2018) in the original paper.\n",
    "2. We want to clean-up the dataset and make sure that the remaining hashtags and scores are emotion-based words\n",
    "3. Defining and generating the transactional database is one of the most crucial steps in doing FIM and APM, for this study we define a transaction to be a unique listening event and the basket of items to be the emotion scores + song played.\n",
    "4. We then perform FIM and APM to answer the listed problem statements."
   ]
  },
  {
   "cell_type": "markdown",
   "metadata": {},
   "source": [
    "## 4 Data Processing"
   ]
  },
  {
   "cell_type": "code",
   "execution_count": 38,
   "metadata": {
    "ExecuteTime": {
     "end_time": "2020-11-02T06:41:04.740227Z",
     "start_time": "2020-11-02T06:41:04.735144Z"
    }
   },
   "outputs": [],
   "source": [
    "import numpy as np\n",
    "import pandas as pd\n",
    "import matplotlib.pyplot as plt\n",
    "import fim\n",
    "\n",
    "import requests\n",
    "from bs4 import BeautifulSoup\n",
    "import datetime\n",
    "import time\n",
    "\n",
    "import base64\n",
    "from oauthlib.oauth2 import BackendApplicationClient\n",
    "from requests_oauthlib import OAuth2Session"
   ]
  },
  {
   "cell_type": "markdown",
   "metadata": {},
   "source": [
    "### 4.1 Data load"
   ]
  },
  {
   "cell_type": "code",
   "execution_count": 3,
   "metadata": {
    "ExecuteTime": {
     "end_time": "2020-11-02T06:34:53.084035Z",
     "start_time": "2020-11-02T06:34:02.526809Z"
    }
   },
   "outputs": [],
   "source": [
    "root = \"/mnt/data/public/nowplaying-rs/nowplaying_rs_dataset/\"\n",
    "\n",
    "df1 = pd.read_csv(root + \"sentiment_values.csv\")\n",
    "\n",
    "df2 = pd.read_csv(root + \"user_track_hashtag_timestamp.csv\")\n",
    "\n",
    "df3 = pd.read_csv(root + \"context_content_features.csv\")"
   ]
  },
  {
   "cell_type": "markdown",
   "metadata": {},
   "source": [
    "### 4.2 Cleaning up the sentiment values of hashtags\n",
    "\n",
    "In this section, we want to clean up the sentiment values of the hashtags from the `sentiment_values.csv` file for later processing. \n",
    "\n",
    "As stated in the methodology above, we will use the hashtags as the proxy identifier for the emotions associated with the songs. According to Poddar, Zangerle, and Yang (2018), these user-provided hashtags are reflective of their self-expression in connection with their activities, thoughts, and emotions as they listen to music. The hashtags are diverse, ranging from the genre or context of the song (e.g. `#metal`) to perceived emotion of the song (e.g. `#fun`). \n",
    "\n",
    "The scores associated with each hashtag were determined using an unsupervised sentiment dictionary approach. The dictionaries used by the researchers are well-established dictionaries which have been widely evaluated and are dictionaries that provide both the best coverage and performance in terms of accuracy. These are: AFINN, Opinion Lexicon,\n",
    "SentiStrength, Vader, and the Sentiment Hashtag Lexicon (Poddar, Zangerie, and Yang, 2018).\n",
    "\n",
    "The raw data is shown below:"
   ]
  },
  {
   "cell_type": "code",
   "execution_count": 4,
   "metadata": {
    "ExecuteTime": {
     "end_time": "2020-11-02T06:34:53.115333Z",
     "start_time": "2020-11-02T06:34:53.086438Z"
    }
   },
   "outputs": [
    {
     "data": {
      "text/html": [
       "<div>\n",
       "<style scoped>\n",
       "    .dataframe tbody tr th:only-of-type {\n",
       "        vertical-align: middle;\n",
       "    }\n",
       "\n",
       "    .dataframe tbody tr th {\n",
       "        vertical-align: top;\n",
       "    }\n",
       "\n",
       "    .dataframe thead th {\n",
       "        text-align: right;\n",
       "    }\n",
       "</style>\n",
       "<table border=\"1\" class=\"dataframe\">\n",
       "  <thead>\n",
       "    <tr style=\"text-align: right;\">\n",
       "      <th></th>\n",
       "      <th></th>\n",
       "      <th></th>\n",
       "      <th></th>\n",
       "      <th>hashtag</th>\n",
       "      <th>vader_min</th>\n",
       "      <th>vader_max</th>\n",
       "      <th>vader_sum</th>\n",
       "      <th>vader_avg</th>\n",
       "      <th>afinn_min</th>\n",
       "      <th>afinn_max</th>\n",
       "      <th>afinn_sum</th>\n",
       "      <th>afinn_avg</th>\n",
       "      <th>ol_min</th>\n",
       "      <th>ol_max</th>\n",
       "      <th>ol_sum</th>\n",
       "      <th>ol_avg</th>\n",
       "      <th>ss_min</th>\n",
       "      <th>ss_max</th>\n",
       "      <th>ss_sum</th>\n",
       "      <th>ss_avg</th>\n",
       "    </tr>\n",
       "  </thead>\n",
       "  <tbody>\n",
       "    <tr>\n",
       "      <th>relaxtime</th>\n",
       "      <th>0.8</th>\n",
       "      <th>0.8</th>\n",
       "      <th>2.4</th>\n",
       "      <td>0.8</td>\n",
       "      <td>NaN</td>\n",
       "      <td>NaN</td>\n",
       "      <td>NaN</td>\n",
       "      <td>NaN</td>\n",
       "      <td>0.7375</td>\n",
       "      <td>0.7375</td>\n",
       "      <td>0.7375</td>\n",
       "      <td>0.7375</td>\n",
       "      <td>NaN</td>\n",
       "      <td>NaN</td>\n",
       "      <td>NaN</td>\n",
       "      <td>NaN</td>\n",
       "      <td>NaN</td>\n",
       "      <td>NaN</td>\n",
       "      <td>NaN</td>\n",
       "      <td>NaN</td>\n",
       "    </tr>\n",
       "    <tr>\n",
       "      <th>melovechilicheese</th>\n",
       "      <th>0.8</th>\n",
       "      <th>0.8</th>\n",
       "      <th>0.8</th>\n",
       "      <td>0.8</td>\n",
       "      <td>NaN</td>\n",
       "      <td>NaN</td>\n",
       "      <td>NaN</td>\n",
       "      <td>NaN</td>\n",
       "      <td>0.9000</td>\n",
       "      <td>0.9000</td>\n",
       "      <td>0.9000</td>\n",
       "      <td>0.9000</td>\n",
       "      <td>1.0</td>\n",
       "      <td>1.0</td>\n",
       "      <td>1.0</td>\n",
       "      <td>1.0</td>\n",
       "      <td>0.8</td>\n",
       "      <td>0.8</td>\n",
       "      <td>0.8</td>\n",
       "      <td>0.8</td>\n",
       "    </tr>\n",
       "    <tr>\n",
       "      <th>greatmusic</th>\n",
       "      <th>0.8</th>\n",
       "      <th>0.8</th>\n",
       "      <th>2.4</th>\n",
       "      <td>0.8</td>\n",
       "      <td>1.0</td>\n",
       "      <td>1.0</td>\n",
       "      <td>1.0</td>\n",
       "      <td>1.0</td>\n",
       "      <td>0.8875</td>\n",
       "      <td>0.8875</td>\n",
       "      <td>0.8875</td>\n",
       "      <td>0.8875</td>\n",
       "      <td>1.0</td>\n",
       "      <td>1.0</td>\n",
       "      <td>1.0</td>\n",
       "      <td>1.0</td>\n",
       "      <td>0.8</td>\n",
       "      <td>0.8</td>\n",
       "      <td>0.8</td>\n",
       "      <td>0.8</td>\n",
       "    </tr>\n",
       "    <tr>\n",
       "      <th>rockballad</th>\n",
       "      <th>0.7</th>\n",
       "      <th>0.7</th>\n",
       "      <th>0.7</th>\n",
       "      <td>0.7</td>\n",
       "      <td>NaN</td>\n",
       "      <td>NaN</td>\n",
       "      <td>NaN</td>\n",
       "      <td>NaN</td>\n",
       "      <td>NaN</td>\n",
       "      <td>NaN</td>\n",
       "      <td>NaN</td>\n",
       "      <td>NaN</td>\n",
       "      <td>NaN</td>\n",
       "      <td>NaN</td>\n",
       "      <td>NaN</td>\n",
       "      <td>NaN</td>\n",
       "      <td>NaN</td>\n",
       "      <td>NaN</td>\n",
       "      <td>NaN</td>\n",
       "      <td>NaN</td>\n",
       "    </tr>\n",
       "    <tr>\n",
       "      <th>amonamarth</th>\n",
       "      <th>0.3</th>\n",
       "      <th>0.3</th>\n",
       "      <th>0.3</th>\n",
       "      <td>0.3</td>\n",
       "      <td>NaN</td>\n",
       "      <td>NaN</td>\n",
       "      <td>NaN</td>\n",
       "      <td>NaN</td>\n",
       "      <td>NaN</td>\n",
       "      <td>NaN</td>\n",
       "      <td>NaN</td>\n",
       "      <td>NaN</td>\n",
       "      <td>0.0</td>\n",
       "      <td>0.0</td>\n",
       "      <td>0.0</td>\n",
       "      <td>0.0</td>\n",
       "      <td>NaN</td>\n",
       "      <td>NaN</td>\n",
       "      <td>NaN</td>\n",
       "      <td>NaN</td>\n",
       "    </tr>\n",
       "  </tbody>\n",
       "</table>\n",
       "</div>"
      ],
      "text/plain": [
       "                               hashtag   vader_min   vader_max   vader_sum  \\\n",
       "relaxtime         0.8 0.8 2.4      0.8         NaN         NaN         NaN   \n",
       "melovechilicheese 0.8 0.8 0.8      0.8         NaN         NaN         NaN   \n",
       "greatmusic        0.8 0.8 2.4      0.8         1.0         1.0         1.0   \n",
       "rockballad        0.7 0.7 0.7      0.7         NaN         NaN         NaN   \n",
       "amonamarth        0.3 0.3 0.3      0.3         NaN         NaN         NaN   \n",
       "\n",
       "                               vader_avg    afinn_min   afinn_max   afinn_sum  \\\n",
       "relaxtime         0.8 0.8 2.4        NaN       0.7375      0.7375      0.7375   \n",
       "melovechilicheese 0.8 0.8 0.8        NaN       0.9000      0.9000      0.9000   \n",
       "greatmusic        0.8 0.8 2.4        1.0       0.8875      0.8875      0.8875   \n",
       "rockballad        0.7 0.7 0.7        NaN          NaN         NaN         NaN   \n",
       "amonamarth        0.3 0.3 0.3        NaN          NaN         NaN         NaN   \n",
       "\n",
       "                                afinn_avg   ol_min   ol_max   ol_sum   ol_avg  \\\n",
       "relaxtime         0.8 0.8 2.4      0.7375      NaN      NaN      NaN      NaN   \n",
       "melovechilicheese 0.8 0.8 0.8      0.9000      1.0      1.0      1.0      1.0   \n",
       "greatmusic        0.8 0.8 2.4      0.8875      1.0      1.0      1.0      1.0   \n",
       "rockballad        0.7 0.7 0.7         NaN      NaN      NaN      NaN      NaN   \n",
       "amonamarth        0.3 0.3 0.3         NaN      0.0      0.0      0.0      0.0   \n",
       "\n",
       "                                ss_min   ss_max   ss_sum   ss_avg  \n",
       "relaxtime         0.8 0.8 2.4      NaN      NaN      NaN      NaN  \n",
       "melovechilicheese 0.8 0.8 0.8      0.8      0.8      0.8      0.8  \n",
       "greatmusic        0.8 0.8 2.4      0.8      0.8      0.8      0.8  \n",
       "rockballad        0.7 0.7 0.7      NaN      NaN      NaN      NaN  \n",
       "amonamarth        0.3 0.3 0.3      NaN      NaN      NaN      NaN  "
      ]
     },
     "metadata": {},
     "output_type": "display_data"
    },
    {
     "data": {
      "text/plain": [
       "(5290, 17)"
      ]
     },
     "metadata": {},
     "output_type": "display_data"
    }
   ],
   "source": [
    "display(df1.head())\n",
    "display(df1.shape)"
   ]
  },
  {
   "cell_type": "code",
   "execution_count": 5,
   "metadata": {
    "ExecuteTime": {
     "end_time": "2020-11-02T06:34:53.126785Z",
     "start_time": "2020-11-02T06:34:53.116866Z"
    }
   },
   "outputs": [],
   "source": [
    "df_sent = (df1.rename(columns = {'hashtag':'ss_score'})\n",
    "           .reset_index()\n",
    "           .rename(columns = {'level_0':'hashtag', \n",
    "                              'level_1':'vader_score',\n",
    "                              'level_2':'afinn_score',\n",
    "                              'level_3':'ol_score'})\n",
    "           .drop(columns=[' vader_min', ' vader_max', ' vader_sum',\n",
    "                          '  afinn_min',' afinn_max', ' afinn_sum', ' ol_min',\n",
    "                          ' ol_max',' ol_sum',' ss_min', ' ss_max',\n",
    "                          ' ss_sum', ])\n",
    "          )"
   ]
  },
  {
   "cell_type": "markdown",
   "metadata": {},
   "source": [
    "The processing steps done above are as follows:\n",
    "    \n",
    "1. Renaming of initial `hashtag` to `ss_score` column\n",
    "2. Removal of multi-index rows to get the scores\n",
    "3. Renaming of columns to match the proper scores: `vader`, `afinn`, `ol`, in order.\n",
    "4. Dropping of `min`, `max`, and `sum` scores of the 4 different sentiment-based dictionaries.\n",
    "\n",
    "The resulting dataset after the cleaning is below:"
   ]
  },
  {
   "cell_type": "code",
   "execution_count": 6,
   "metadata": {
    "ExecuteTime": {
     "end_time": "2020-11-02T06:34:53.141898Z",
     "start_time": "2020-11-02T06:34:53.128218Z"
    }
   },
   "outputs": [
    {
     "data": {
      "text/html": [
       "<div>\n",
       "<style scoped>\n",
       "    .dataframe tbody tr th:only-of-type {\n",
       "        vertical-align: middle;\n",
       "    }\n",
       "\n",
       "    .dataframe tbody tr th {\n",
       "        vertical-align: top;\n",
       "    }\n",
       "\n",
       "    .dataframe thead th {\n",
       "        text-align: right;\n",
       "    }\n",
       "</style>\n",
       "<table border=\"1\" class=\"dataframe\">\n",
       "  <thead>\n",
       "    <tr style=\"text-align: right;\">\n",
       "      <th></th>\n",
       "      <th>hashtag</th>\n",
       "      <th>vader_score</th>\n",
       "      <th>afinn_score</th>\n",
       "      <th>ol_score</th>\n",
       "      <th>ss_score</th>\n",
       "      <th>vader_avg</th>\n",
       "      <th>afinn_avg</th>\n",
       "      <th>ol_avg</th>\n",
       "      <th>ss_avg</th>\n",
       "    </tr>\n",
       "  </thead>\n",
       "  <tbody>\n",
       "    <tr>\n",
       "      <th>0</th>\n",
       "      <td>relaxtime</td>\n",
       "      <td>0.8</td>\n",
       "      <td>0.8</td>\n",
       "      <td>2.4</td>\n",
       "      <td>0.8</td>\n",
       "      <td>NaN</td>\n",
       "      <td>0.7375</td>\n",
       "      <td>NaN</td>\n",
       "      <td>NaN</td>\n",
       "    </tr>\n",
       "    <tr>\n",
       "      <th>1</th>\n",
       "      <td>melovechilicheese</td>\n",
       "      <td>0.8</td>\n",
       "      <td>0.8</td>\n",
       "      <td>0.8</td>\n",
       "      <td>0.8</td>\n",
       "      <td>NaN</td>\n",
       "      <td>0.9000</td>\n",
       "      <td>1.0</td>\n",
       "      <td>0.8</td>\n",
       "    </tr>\n",
       "    <tr>\n",
       "      <th>2</th>\n",
       "      <td>greatmusic</td>\n",
       "      <td>0.8</td>\n",
       "      <td>0.8</td>\n",
       "      <td>2.4</td>\n",
       "      <td>0.8</td>\n",
       "      <td>1.0</td>\n",
       "      <td>0.8875</td>\n",
       "      <td>1.0</td>\n",
       "      <td>0.8</td>\n",
       "    </tr>\n",
       "    <tr>\n",
       "      <th>3</th>\n",
       "      <td>rockballad</td>\n",
       "      <td>0.7</td>\n",
       "      <td>0.7</td>\n",
       "      <td>0.7</td>\n",
       "      <td>0.7</td>\n",
       "      <td>NaN</td>\n",
       "      <td>NaN</td>\n",
       "      <td>NaN</td>\n",
       "      <td>NaN</td>\n",
       "    </tr>\n",
       "    <tr>\n",
       "      <th>4</th>\n",
       "      <td>amonamarth</td>\n",
       "      <td>0.3</td>\n",
       "      <td>0.3</td>\n",
       "      <td>0.3</td>\n",
       "      <td>0.3</td>\n",
       "      <td>NaN</td>\n",
       "      <td>NaN</td>\n",
       "      <td>0.0</td>\n",
       "      <td>NaN</td>\n",
       "    </tr>\n",
       "  </tbody>\n",
       "</table>\n",
       "</div>"
      ],
      "text/plain": [
       "             hashtag  vader_score  afinn_score  ol_score  ss_score  vader_avg  \\\n",
       "0          relaxtime          0.8          0.8       2.4       0.8        NaN   \n",
       "1  melovechilicheese          0.8          0.8       0.8       0.8        NaN   \n",
       "2         greatmusic          0.8          0.8       2.4       0.8        1.0   \n",
       "3         rockballad          0.7          0.7       0.7       0.7        NaN   \n",
       "4         amonamarth          0.3          0.3       0.3       0.3        NaN   \n",
       "\n",
       "    afinn_avg   ol_avg   ss_avg  \n",
       "0      0.7375      NaN      NaN  \n",
       "1      0.9000      1.0      0.8  \n",
       "2      0.8875      1.0      0.8  \n",
       "3         NaN      NaN      NaN  \n",
       "4         NaN      0.0      NaN  "
      ]
     },
     "metadata": {},
     "output_type": "display_data"
    },
    {
     "data": {
      "text/plain": [
       "(5290, 9)"
      ]
     },
     "metadata": {},
     "output_type": "display_data"
    }
   ],
   "source": [
    "display(df_sent.head())\n",
    "display(df_sent.shape)"
   ]
  },
  {
   "cell_type": "markdown",
   "metadata": {},
   "source": [
    "To have more robust scores for the hashtags, we will use the average score per sentiment dictionary as backup to the calculated score by the researchers, e.g. `vader_avg` is the former and `vader_score` is the latter. All scores are rounded up to the 4th decimal place."
   ]
  },
  {
   "cell_type": "code",
   "execution_count": 7,
   "metadata": {
    "ExecuteTime": {
     "end_time": "2020-11-02T06:34:53.442240Z",
     "start_time": "2020-11-02T06:34:53.143706Z"
    }
   },
   "outputs": [],
   "source": [
    "df_sent['vader_fin'] = df_sent.apply(lambda x: round(x['vader_score'],4)\n",
    "                                     if x['vader_score'] != np.nan \n",
    "                                     else round(x['vader_avg'],4), axis=1)\n",
    "\n",
    "df_sent['afinn_fin'] = df_sent.apply(lambda x: round(x['afinn_score'],4)\n",
    "                                     if x['afinn_score'] != np.nan \n",
    "                                     else round([' afinn_avg'],4), axis=1)\n",
    "\n",
    "df_sent['ol_fin'] = df_sent.apply(lambda x: round(x['ol_score'],4)\n",
    "                                     if x['ol_score'] != np.nan \n",
    "                                     else round(x[' ol_avg'],4), axis=1)\n",
    "\n",
    "df_sent['ss_fin'] = df_sent.apply(lambda x: round(x['ss_score'],4)\n",
    "                                     if x['ss_score'] != np.nan \n",
    "                                     else round(x[' ss_avg'],4), axis=1)"
   ]
  },
  {
   "cell_type": "code",
   "execution_count": 8,
   "metadata": {
    "ExecuteTime": {
     "end_time": "2020-11-02T06:34:53.457802Z",
     "start_time": "2020-11-02T06:34:53.445482Z"
    }
   },
   "outputs": [
    {
     "data": {
      "text/html": [
       "<div>\n",
       "<style scoped>\n",
       "    .dataframe tbody tr th:only-of-type {\n",
       "        vertical-align: middle;\n",
       "    }\n",
       "\n",
       "    .dataframe tbody tr th {\n",
       "        vertical-align: top;\n",
       "    }\n",
       "\n",
       "    .dataframe thead th {\n",
       "        text-align: right;\n",
       "    }\n",
       "</style>\n",
       "<table border=\"1\" class=\"dataframe\">\n",
       "  <thead>\n",
       "    <tr style=\"text-align: right;\">\n",
       "      <th></th>\n",
       "      <th>vader_fin</th>\n",
       "      <th>afinn_fin</th>\n",
       "      <th>ol_fin</th>\n",
       "      <th>ss_fin</th>\n",
       "    </tr>\n",
       "  </thead>\n",
       "  <tbody>\n",
       "    <tr>\n",
       "      <th>0</th>\n",
       "      <td>0.8</td>\n",
       "      <td>0.8</td>\n",
       "      <td>2.4</td>\n",
       "      <td>0.8</td>\n",
       "    </tr>\n",
       "    <tr>\n",
       "      <th>1</th>\n",
       "      <td>0.8</td>\n",
       "      <td>0.8</td>\n",
       "      <td>0.8</td>\n",
       "      <td>0.8</td>\n",
       "    </tr>\n",
       "    <tr>\n",
       "      <th>2</th>\n",
       "      <td>0.8</td>\n",
       "      <td>0.8</td>\n",
       "      <td>2.4</td>\n",
       "      <td>0.8</td>\n",
       "    </tr>\n",
       "    <tr>\n",
       "      <th>3</th>\n",
       "      <td>0.7</td>\n",
       "      <td>0.7</td>\n",
       "      <td>0.7</td>\n",
       "      <td>0.7</td>\n",
       "    </tr>\n",
       "    <tr>\n",
       "      <th>4</th>\n",
       "      <td>0.3</td>\n",
       "      <td>0.3</td>\n",
       "      <td>0.3</td>\n",
       "      <td>0.3</td>\n",
       "    </tr>\n",
       "  </tbody>\n",
       "</table>\n",
       "</div>"
      ],
      "text/plain": [
       "   vader_fin  afinn_fin  ol_fin  ss_fin\n",
       "0        0.8        0.8     2.4     0.8\n",
       "1        0.8        0.8     0.8     0.8\n",
       "2        0.8        0.8     2.4     0.8\n",
       "3        0.7        0.7     0.7     0.7\n",
       "4        0.3        0.3     0.3     0.3"
      ]
     },
     "metadata": {},
     "output_type": "display_data"
    },
    {
     "data": {
      "text/plain": [
       "(5290, 4)"
      ]
     },
     "metadata": {},
     "output_type": "display_data"
    }
   ],
   "source": [
    "display(df_sent[['vader_fin', 'afinn_fin', 'ol_fin', 'ss_fin']].head())\n",
    "display(df_sent[['vader_fin', 'afinn_fin', 'ol_fin', 'ss_fin']].shape)"
   ]
  },
  {
   "cell_type": "code",
   "execution_count": 9,
   "metadata": {
    "ExecuteTime": {
     "end_time": "2020-11-02T06:34:53.466255Z",
     "start_time": "2020-11-02T06:34:53.459865Z"
    }
   },
   "outputs": [
    {
     "data": {
      "text/plain": [
       "vader_fin    1423\n",
       "afinn_fin    1423\n",
       "ol_fin       1423\n",
       "ss_fin       1423\n",
       "dtype: int64"
      ]
     },
     "execution_count": 9,
     "metadata": {},
     "output_type": "execute_result"
    }
   ],
   "source": [
    "df_sent[['vader_fin', 'afinn_fin', 'ol_fin', 'ss_fin']].isnull().sum()"
   ]
  },
  {
   "cell_type": "markdown",
   "metadata": {},
   "source": [
    "Looking at the count of hashtags with no associated sentiment score, all sentiment lexicons have the same count of missing values.  In choosing which score to keep, we need to dig deeper and look at the distribution of scores per sentiment lexicon, plus the range of the actual scores."
   ]
  },
  {
   "cell_type": "markdown",
   "metadata": {},
   "source": [
    "### 4.3 Choosing Sentiment data to keep"
   ]
  },
  {
   "cell_type": "code",
   "execution_count": 10,
   "metadata": {
    "ExecuteTime": {
     "end_time": "2020-11-02T06:34:54.252624Z",
     "start_time": "2020-11-02T06:34:53.468065Z"
    }
   },
   "outputs": [
    {
     "data": {
      "image/png": "[encoded data removed]",
      "text/plain": [
       "<Figure size 1080x576 with 4 Axes>"
      ]
     },
     "metadata": {
      "needs_background": "light"
     },
     "output_type": "display_data"
    }
   ],
   "source": [
    "df_vader = (df_sent[['hashtag','vader_fin']].dropna()\n",
    "            .rename(columns={'vader_fin':'sentiment'}))\n",
    "\n",
    "df_afinn = (df_sent[['hashtag','afinn_fin']].dropna()\n",
    "            .rename(columns={'afinn_fin':'sentiment'}))\n",
    "\n",
    "df_ol = (df_sent[['hashtag','ol_fin']].dropna()\n",
    "            .rename(columns={'ol_fin':'sentiment'}))\n",
    "\n",
    "df_ss = (df_sent[['hashtag','ss_fin']].dropna()\n",
    "            .rename(columns={'ss_fin':'sentiment'}))\n",
    "\n",
    "fig, axes = plt.subplots(2,2, figsize=(15,8))\n",
    "\n",
    "for ax, name, data in zip(axes.flat,\n",
    "                          ['Vader','AFINN', \n",
    "                           'Opinion Lexicon', 'SentiStrength Lexicon'],\n",
    "                          [df_vader,df_afinn, df_ol, df_ss]):\n",
    "    ax.hist(data['sentiment'])\n",
    "    ax.set_title(f'{name} Sentiment Score Distribution')\n",
    "    ax.set_ylabel('Count')\n",
    "    ax.set_xlabel('Sentiment Score')\n",
    "    \n",
    "plt.tight_layout()    \n",
    "plt.show()"
   ]
  },
  {
   "cell_type": "markdown",
   "metadata": {},
   "source": [
    "In the graphs above, we can see that Vader, AFINN, and SentiStrength have the same range of scores: from 0 to 1.0 (negative to positive). The general distribution of scores across these 3 sentiment dictionaries are also similar. We can see two  clusters or peaks for Vader, AFINN, and Sentistrength: `0.0 to ~0.4` representing the negative sentiments, and `~0.6 to 1.0`, representing the positive sentiments. \n",
    "\n",
    "Meanwhile, for Opinion Lexicon, the range of scores differ, with 0 as the lowest (negative) and 5 as the highest (positive). Sentiment scores for Opinion Lexicon also lean more on the negative end."
   ]
  },
  {
   "cell_type": "code",
   "execution_count": 11,
   "metadata": {
    "ExecuteTime": {
     "end_time": "2020-11-02T06:34:54.272871Z",
     "start_time": "2020-11-02T06:34:54.255204Z"
    }
   },
   "outputs": [
    {
     "data": {
      "text/plain": [
       "'Vader'"
      ]
     },
     "metadata": {},
     "output_type": "display_data"
    },
    {
     "data": {
      "text/plain": [
       "array([0.8, 0.7, 0.3, 0.6, 0.2, 0.9, 0.1, 0.4, 1. ])"
      ]
     },
     "metadata": {},
     "output_type": "display_data"
    },
    {
     "data": {
      "text/plain": [
       "'AFINN'"
      ]
     },
     "metadata": {},
     "output_type": "display_data"
    },
    {
     "data": {
      "text/plain": [
       "array([0.8, 0.7, 0.3, 0.6, 0.2, 0.9, 0.1, 0.4, 1. ])"
      ]
     },
     "metadata": {},
     "output_type": "display_data"
    },
    {
     "data": {
      "text/plain": [
       "'Opinion Lexicon'"
      ]
     },
     "metadata": {},
     "output_type": "display_data"
    },
    {
     "data": {
      "text/plain": [
       "array([2.4, 0.8, 0.7, 0.3, 1.2, 0.4, 0.6, 1.8, 0.1, 0.9, 1.6, 0.2, 2.1,\n",
       "       2.7, 1.5, 2.6, 1.9, 1. , 1.3, 1.4, 1.1, 3. , 3.2, 3.4, 2.2, 2.9,\n",
       "       1.7, 4.7, 0.5, 2.8, 2. , 3.3, 3.9, 3.6, 3.1, 4.8])"
      ]
     },
     "metadata": {},
     "output_type": "display_data"
    },
    {
     "data": {
      "text/plain": [
       "'SentiStrength Lexicon'"
      ]
     },
     "metadata": {},
     "output_type": "display_data"
    },
    {
     "data": {
      "text/plain": [
       "array([0.8   , 0.7   , 0.3   , 0.6   , 0.2   , 0.9   , 0.1   , 0.4   ,\n",
       "       0.675 , 0.25  , 0.8667, 0.475 , 0.5   , 0.65  , 0.55  , 0.35  ,\n",
       "       0.75  , 0.15  , 0.275 , 0.4333, 0.375 , 0.45  , 0.85  , 0.725 ,\n",
       "       0.68  , 0.38  , 0.5667, 0.6714, 0.5333, 0.3333, 0.425 , 0.32  ,\n",
       "       0.225 , 1.    , 0.325 , 0.7333, 0.6667, 0.3667, 0.64  , 0.4286,\n",
       "       0.66  , 0.775 , 0.2667])"
      ]
     },
     "metadata": {},
     "output_type": "display_data"
    }
   ],
   "source": [
    "display('Vader', df_vader['sentiment'].unique())\n",
    "\n",
    "display('AFINN', df_afinn['sentiment'].unique())\n",
    "\n",
    "display('Opinion Lexicon', df_ol['sentiment'].unique())\n",
    "\n",
    "display('SentiStrength Lexicon', df_ss['sentiment'].unique())"
   ]
  },
  {
   "cell_type": "markdown",
   "metadata": {},
   "source": [
    "Looking at the unique values per sentiment lexicon, we can see that Vader and AFINN have the same set of values, while Opinion Lexicon and SentiStrength Lexicon have more \"finer\" / graduated scores.\n",
    "\n",
    "In selecting the sentiment data to keep, we pick `SentiStrength` based on the more representative distribution of scores and the finer graduation of scores. The more balanced distribution and the finer graduations allow better differentiation of the emotional states. For a particular hashtag, having a score somewhere in between 0.8 and 0.9 is better than being automatically bucketed to either 0.8 or 0.9. Accuracy-wise, the scores given by each sentiment dictionary to a hashtag are not far from each other and in most cases, are the equal to each other (Poddar, Zangerie, and Yang, 2018). Having a more graduated range of scores confers more advantages as we can account for more emotion states and potentially increase interpretability."
   ]
  },
  {
   "cell_type": "markdown",
   "metadata": {},
   "source": [
    "### 4.4 Appending `SentiStrength` sentiment data to base listening event dataset\n",
    "\n",
    "In this section, we are joining the kept sentiment data from the previous section, to the base dataset from `user_track_hashtag_timestamp.csv`. As mentioned in the data description part, this dataset contains the most basic info for each listening event.\n",
    "\n",
    "The joined dataset is shown below:"
   ]
  },
  {
   "cell_type": "code",
   "execution_count": 12,
   "metadata": {
    "ExecuteTime": {
     "end_time": "2020-11-02T06:34:56.688598Z",
     "start_time": "2020-11-02T06:34:54.274570Z"
    }
   },
   "outputs": [
    {
     "data": {
      "text/html": [
       "<div>\n",
       "<style scoped>\n",
       "    .dataframe tbody tr th:only-of-type {\n",
       "        vertical-align: middle;\n",
       "    }\n",
       "\n",
       "    .dataframe tbody tr th {\n",
       "        vertical-align: top;\n",
       "    }\n",
       "\n",
       "    .dataframe thead th {\n",
       "        text-align: right;\n",
       "    }\n",
       "</style>\n",
       "<table border=\"1\" class=\"dataframe\">\n",
       "  <thead>\n",
       "    <tr style=\"text-align: right;\">\n",
       "      <th></th>\n",
       "      <th>user_id</th>\n",
       "      <th>track_id</th>\n",
       "      <th>hashtag</th>\n",
       "      <th>created_at</th>\n",
       "      <th>sentiment</th>\n",
       "    </tr>\n",
       "  </thead>\n",
       "  <tbody>\n",
       "    <tr>\n",
       "      <th>0</th>\n",
       "      <td>81496937</td>\n",
       "      <td>cd52b3e5b51da29e5893dba82a418a4b</td>\n",
       "      <td>nowplaying</td>\n",
       "      <td>2014-01-01 05:54:21</td>\n",
       "      <td>0.6000</td>\n",
       "    </tr>\n",
       "    <tr>\n",
       "      <th>1</th>\n",
       "      <td>132588395</td>\n",
       "      <td>ba84d88c10fb0e42d4754a27ead10546</td>\n",
       "      <td>nowplaying</td>\n",
       "      <td>2014-01-01 05:54:22</td>\n",
       "      <td>0.6000</td>\n",
       "    </tr>\n",
       "    <tr>\n",
       "      <th>2</th>\n",
       "      <td>97675221</td>\n",
       "      <td>33f95122281f76e7134f9cbea3be980f</td>\n",
       "      <td>nowplaying</td>\n",
       "      <td>2014-01-01 05:54:24</td>\n",
       "      <td>0.6000</td>\n",
       "    </tr>\n",
       "    <tr>\n",
       "      <th>3</th>\n",
       "      <td>17945688</td>\n",
       "      <td>b5c42e81e15cd54b9b0ee34711dedf05</td>\n",
       "      <td>nowplaying</td>\n",
       "      <td>2014-01-01 05:54:24</td>\n",
       "      <td>0.6000</td>\n",
       "    </tr>\n",
       "    <tr>\n",
       "      <th>4</th>\n",
       "      <td>452285741</td>\n",
       "      <td>8bd5206b84c968eda0af8bc86d6ab1d1</td>\n",
       "      <td>nowplaying</td>\n",
       "      <td>2014-01-01 05:54:25</td>\n",
       "      <td>0.6000</td>\n",
       "    </tr>\n",
       "    <tr>\n",
       "      <th>...</th>\n",
       "      <td>...</td>\n",
       "      <td>...</td>\n",
       "      <td>...</td>\n",
       "      <td>...</td>\n",
       "      <td>...</td>\n",
       "    </tr>\n",
       "    <tr>\n",
       "      <th>5956931</th>\n",
       "      <td>1549216658</td>\n",
       "      <td>fbfd4b6ff80084a38f596257089009fc</td>\n",
       "      <td>ripjoecocker</td>\n",
       "      <td>2014-12-22 23:31:40</td>\n",
       "      <td>0.3000</td>\n",
       "    </tr>\n",
       "    <tr>\n",
       "      <th>5956932</th>\n",
       "      <td>1197582204</td>\n",
       "      <td>8b64dd68664629ec26788144aa704019</td>\n",
       "      <td>romanticlove</td>\n",
       "      <td>2014-12-23 03:27:41</td>\n",
       "      <td>0.8667</td>\n",
       "    </tr>\n",
       "    <tr>\n",
       "      <th>5956933</th>\n",
       "      <td>2214995293</td>\n",
       "      <td>8b64dd68664629ec26788144aa704019</td>\n",
       "      <td>romanticlove</td>\n",
       "      <td>2014-12-23 03:27:55</td>\n",
       "      <td>0.8667</td>\n",
       "    </tr>\n",
       "    <tr>\n",
       "      <th>5956934</th>\n",
       "      <td>186008229</td>\n",
       "      <td>c4a0c3feae47b6e6a09141483782302f</td>\n",
       "      <td>confused</td>\n",
       "      <td>2014-12-23 03:49:11</td>\n",
       "      <td>0.3000</td>\n",
       "    </tr>\n",
       "    <tr>\n",
       "      <th>5956935</th>\n",
       "      <td>26274755</td>\n",
       "      <td>6adc880dc402b81f77b8c7c5b436c303</td>\n",
       "      <td>criminallyunderrated</td>\n",
       "      <td>2014-12-23 07:18:15</td>\n",
       "      <td>0.3000</td>\n",
       "    </tr>\n",
       "  </tbody>\n",
       "</table>\n",
       "<p>5956936 rows × 5 columns</p>\n",
       "</div>"
      ],
      "text/plain": [
       "            user_id                          track_id               hashtag  \\\n",
       "0          81496937  cd52b3e5b51da29e5893dba82a418a4b            nowplaying   \n",
       "1         132588395  ba84d88c10fb0e42d4754a27ead10546            nowplaying   \n",
       "2          97675221  33f95122281f76e7134f9cbea3be980f            nowplaying   \n",
       "3          17945688  b5c42e81e15cd54b9b0ee34711dedf05            nowplaying   \n",
       "4         452285741  8bd5206b84c968eda0af8bc86d6ab1d1            nowplaying   \n",
       "...             ...                               ...                   ...   \n",
       "5956931  1549216658  fbfd4b6ff80084a38f596257089009fc          ripjoecocker   \n",
       "5956932  1197582204  8b64dd68664629ec26788144aa704019          romanticlove   \n",
       "5956933  2214995293  8b64dd68664629ec26788144aa704019          romanticlove   \n",
       "5956934   186008229  c4a0c3feae47b6e6a09141483782302f              confused   \n",
       "5956935    26274755  6adc880dc402b81f77b8c7c5b436c303  criminallyunderrated   \n",
       "\n",
       "                  created_at  sentiment  \n",
       "0        2014-01-01 05:54:21     0.6000  \n",
       "1        2014-01-01 05:54:22     0.6000  \n",
       "2        2014-01-01 05:54:24     0.6000  \n",
       "3        2014-01-01 05:54:24     0.6000  \n",
       "4        2014-01-01 05:54:25     0.6000  \n",
       "...                      ...        ...  \n",
       "5956931  2014-12-22 23:31:40     0.3000  \n",
       "5956932  2014-12-23 03:27:41     0.8667  \n",
       "5956933  2014-12-23 03:27:55     0.8667  \n",
       "5956934  2014-12-23 03:49:11     0.3000  \n",
       "5956935  2014-12-23 07:18:15     0.3000  \n",
       "\n",
       "[5956936 rows x 5 columns]"
      ]
     },
     "execution_count": 12,
     "metadata": {},
     "output_type": "execute_result"
    }
   ],
   "source": [
    "df_base = pd.merge(df2, df_ss, on='hashtag')\n",
    "\n",
    "df_base"
   ]
  },
  {
   "cell_type": "markdown",
   "metadata": {},
   "source": [
    "From the base dataset which has ~17 M rows, we end up with a much smaller dataset with ~ 6M rows."
   ]
  },
  {
   "cell_type": "code",
   "execution_count": 13,
   "metadata": {
    "ExecuteTime": {
     "end_time": "2020-11-02T06:34:57.527998Z",
     "start_time": "2020-11-02T06:34:56.690230Z"
    }
   },
   "outputs": [
    {
     "data": {
      "text/plain": [
       "user_id       0\n",
       "track_id      0\n",
       "hashtag       0\n",
       "created_at    0\n",
       "sentiment     0\n",
       "dtype: int64"
      ]
     },
     "execution_count": 13,
     "metadata": {},
     "output_type": "execute_result"
    }
   ],
   "source": [
    "df_base.isnull().sum()"
   ]
  },
  {
   "cell_type": "markdown",
   "metadata": {},
   "source": [
    "There are also no null values in the dataset above, meaning that any hashtag with no associated sentiment score was already removed in the joining process."
   ]
  },
  {
   "cell_type": "markdown",
   "metadata": {},
   "source": [
    "### 4.5 Exploring distribution of hashtag values\n",
    "\n",
    "In this section, we want to explore the distribution of the actual hashtag values in the base dataset. While the distribution of sentiment scores are roughly representative of the emotion spectrum, we still want to check whether the distribution of hashtag values are comparative.\n",
    "\n",
    "To do this, we will take a look at the top 20 hashtags in terms of count, and their associated sentiment scores."
   ]
  },
  {
   "cell_type": "code",
   "execution_count": 14,
   "metadata": {
    "ExecuteTime": {
     "end_time": "2020-11-02T06:35:01.160930Z",
     "start_time": "2020-11-02T06:34:57.529704Z"
    }
   },
   "outputs": [
    {
     "data": {
      "text/html": [
       "<div>\n",
       "<style scoped>\n",
       "    .dataframe tbody tr th:only-of-type {\n",
       "        vertical-align: middle;\n",
       "    }\n",
       "\n",
       "    .dataframe tbody tr th {\n",
       "        vertical-align: top;\n",
       "    }\n",
       "\n",
       "    .dataframe thead th {\n",
       "        text-align: right;\n",
       "    }\n",
       "</style>\n",
       "<table border=\"1\" class=\"dataframe\">\n",
       "  <thead>\n",
       "    <tr style=\"text-align: right;\">\n",
       "      <th></th>\n",
       "      <th>hashtag</th>\n",
       "      <th>count</th>\n",
       "      <th>sentiment</th>\n",
       "    </tr>\n",
       "  </thead>\n",
       "  <tbody>\n",
       "    <tr>\n",
       "      <th>0</th>\n",
       "      <td>nowplaying</td>\n",
       "      <td>5765350</td>\n",
       "      <td>0.600</td>\n",
       "    </tr>\n",
       "    <tr>\n",
       "      <th>1</th>\n",
       "      <td>kiss92</td>\n",
       "      <td>56546</td>\n",
       "      <td>0.800</td>\n",
       "    </tr>\n",
       "    <tr>\n",
       "      <th>2</th>\n",
       "      <td>deathrock</td>\n",
       "      <td>24964</td>\n",
       "      <td>0.325</td>\n",
       "    </tr>\n",
       "    <tr>\n",
       "      <th>3</th>\n",
       "      <td>urbantraxxradio</td>\n",
       "      <td>23885</td>\n",
       "      <td>0.700</td>\n",
       "    </tr>\n",
       "    <tr>\n",
       "      <th>4</th>\n",
       "      <td>doommetal</td>\n",
       "      <td>12222</td>\n",
       "      <td>0.300</td>\n",
       "    </tr>\n",
       "    <tr>\n",
       "      <th>5</th>\n",
       "      <td>stonerrock</td>\n",
       "      <td>12220</td>\n",
       "      <td>0.700</td>\n",
       "    </tr>\n",
       "    <tr>\n",
       "      <th>6</th>\n",
       "      <td>craveradio</td>\n",
       "      <td>10428</td>\n",
       "      <td>0.300</td>\n",
       "    </tr>\n",
       "    <tr>\n",
       "      <th>7</th>\n",
       "      <td>rock</td>\n",
       "      <td>9799</td>\n",
       "      <td>0.700</td>\n",
       "    </tr>\n",
       "    <tr>\n",
       "      <th>8</th>\n",
       "      <td>twittamp</td>\n",
       "      <td>3968</td>\n",
       "      <td>0.300</td>\n",
       "    </tr>\n",
       "    <tr>\n",
       "      <th>9</th>\n",
       "      <td>realclassicrock</td>\n",
       "      <td>2498</td>\n",
       "      <td>0.700</td>\n",
       "    </tr>\n",
       "    <tr>\n",
       "      <th>10</th>\n",
       "      <td>rockmusic</td>\n",
       "      <td>2459</td>\n",
       "      <td>0.700</td>\n",
       "    </tr>\n",
       "    <tr>\n",
       "      <th>11</th>\n",
       "      <td>lametrofm</td>\n",
       "      <td>2437</td>\n",
       "      <td>0.200</td>\n",
       "    </tr>\n",
       "    <tr>\n",
       "      <th>12</th>\n",
       "      <td>slamhardstyle</td>\n",
       "      <td>2351</td>\n",
       "      <td>0.300</td>\n",
       "    </tr>\n",
       "    <tr>\n",
       "      <th>13</th>\n",
       "      <td>hardrock</td>\n",
       "      <td>1946</td>\n",
       "      <td>0.700</td>\n",
       "    </tr>\n",
       "    <tr>\n",
       "      <th>14</th>\n",
       "      <td>enjoy</td>\n",
       "      <td>1941</td>\n",
       "      <td>0.800</td>\n",
       "    </tr>\n",
       "    <tr>\n",
       "      <th>15</th>\n",
       "      <td>goodmemories</td>\n",
       "      <td>1900</td>\n",
       "      <td>0.700</td>\n",
       "    </tr>\n",
       "    <tr>\n",
       "      <th>16</th>\n",
       "      <td>goodmusic</td>\n",
       "      <td>1295</td>\n",
       "      <td>0.700</td>\n",
       "    </tr>\n",
       "    <tr>\n",
       "      <th>17</th>\n",
       "      <td>like</td>\n",
       "      <td>1098</td>\n",
       "      <td>0.700</td>\n",
       "    </tr>\n",
       "    <tr>\n",
       "      <th>18</th>\n",
       "      <td>joy97</td>\n",
       "      <td>862</td>\n",
       "      <td>0.800</td>\n",
       "    </tr>\n",
       "    <tr>\n",
       "      <th>19</th>\n",
       "      <td>rocks</td>\n",
       "      <td>820</td>\n",
       "      <td>0.700</td>\n",
       "    </tr>\n",
       "  </tbody>\n",
       "</table>\n",
       "</div>"
      ],
      "text/plain": [
       "            hashtag    count  sentiment\n",
       "0        nowplaying  5765350      0.600\n",
       "1            kiss92    56546      0.800\n",
       "2         deathrock    24964      0.325\n",
       "3   urbantraxxradio    23885      0.700\n",
       "4         doommetal    12222      0.300\n",
       "5        stonerrock    12220      0.700\n",
       "6        craveradio    10428      0.300\n",
       "7              rock     9799      0.700\n",
       "8          twittamp     3968      0.300\n",
       "9   realclassicrock     2498      0.700\n",
       "10        rockmusic     2459      0.700\n",
       "11        lametrofm     2437      0.200\n",
       "12    slamhardstyle     2351      0.300\n",
       "13         hardrock     1946      0.700\n",
       "14            enjoy     1941      0.800\n",
       "15     goodmemories     1900      0.700\n",
       "16        goodmusic     1295      0.700\n",
       "17             like     1098      0.700\n",
       "18            joy97      862      0.800\n",
       "19            rocks      820      0.700"
      ]
     },
     "execution_count": 14,
     "metadata": {},
     "output_type": "execute_result"
    }
   ],
   "source": [
    "top_20 = (pd.DataFrame(df_base['hashtag'].value_counts(ascending=False)[:20])\n",
    "          .reset_index().rename(columns={'hashtag':'count',\n",
    "                                         'index':'hashtag'}))\n",
    "\n",
    "top_20_scores = (df_base[df_base['hashtag'].isin(top_20['hashtag'].tolist())]\n",
    "                 [['hashtag','sentiment']]\n",
    "                 .drop_duplicates())\n",
    "\n",
    "pd.merge(top_20, top_20_scores, on='hashtag')"
   ]
  },
  {
   "cell_type": "markdown",
   "metadata": {},
   "source": [
    "Looking at the top 20 hashtags in terms of count in the base dataset, we can see that the `nowplaying` hashtag skews the distribution since it is at least 2 orders of magnitude bigger than the next hashtag. `kiss92` only has a count of `56,546` while `nowplaying` has `5,765,350`. It's also interesting to see that some of the hashtags in the top 20 do not really convey emotions, e.g. `kiss92`,`twittamp` etc. Most of these hashtags are either the genre of the song they're listening to, or the platform / radio station. \n",
    "\n",
    "Even though the sentiment analysis done by the original researchers was able to assign corresponding scores to these hashtags, it would be better if we remove some of these in the final dataset for the pattern mining so we can focus solely on hashtags that convey emotion. Generally, we only want to remove hashtags that refer to the platforms where they listen to, but not the genre. We acknowledge that keeping the genres might introduce bias but songs belonging to genres have a particular sentiment embedded in them anyway. Removing genre hashtags just might be more detrimental than beneficial since we are removing emotion-conveying hashtags.\n",
    "\n",
    "The list of hashtags to be excluded are listed below"
   ]
  },
  {
   "cell_type": "code",
   "execution_count": 15,
   "metadata": {
    "ExecuteTime": {
     "end_time": "2020-11-02T06:35:01.165483Z",
     "start_time": "2020-11-02T06:35:01.162529Z"
    }
   },
   "outputs": [],
   "source": [
    "hashtag_excl = ['nowplaying', 'kiss92', 'urbantraxxradio', 'craveradio',\n",
    "                'twittamp', 'lametrofm', 'slamhardstyle', 'joy97', 'rocks',\n",
    "                'googleplay','nowplaying', 'myplaylist','playingnow',\n",
    "                'playlist','winamp','slamfm','flirtfm','blockfm']"
   ]
  },
  {
   "cell_type": "code",
   "execution_count": 16,
   "metadata": {
    "ExecuteTime": {
     "end_time": "2020-11-02T06:35:01.453520Z",
     "start_time": "2020-11-02T06:35:01.167224Z"
    }
   },
   "outputs": [
    {
     "data": {
      "text/html": [
       "<div>\n",
       "<style scoped>\n",
       "    .dataframe tbody tr th:only-of-type {\n",
       "        vertical-align: middle;\n",
       "    }\n",
       "\n",
       "    .dataframe tbody tr th {\n",
       "        vertical-align: top;\n",
       "    }\n",
       "\n",
       "    .dataframe thead th {\n",
       "        text-align: right;\n",
       "    }\n",
       "</style>\n",
       "<table border=\"1\" class=\"dataframe\">\n",
       "  <thead>\n",
       "    <tr style=\"text-align: right;\">\n",
       "      <th></th>\n",
       "      <th>user_id</th>\n",
       "      <th>track_id</th>\n",
       "      <th>hashtag</th>\n",
       "      <th>created_at</th>\n",
       "      <th>sentiment</th>\n",
       "    </tr>\n",
       "  </thead>\n",
       "  <tbody>\n",
       "    <tr>\n",
       "      <th>5765350</th>\n",
       "      <td>81496937</td>\n",
       "      <td>cd52b3e5b51da29e5893dba82a418a4b</td>\n",
       "      <td>deathrock</td>\n",
       "      <td>2014-01-01 05:54:21</td>\n",
       "      <td>0.3250</td>\n",
       "    </tr>\n",
       "    <tr>\n",
       "      <th>5765351</th>\n",
       "      <td>81496937</td>\n",
       "      <td>29cb3f8f366888158226c810b3fee372</td>\n",
       "      <td>deathrock</td>\n",
       "      <td>2014-01-01 06:42:12</td>\n",
       "      <td>0.3250</td>\n",
       "    </tr>\n",
       "    <tr>\n",
       "      <th>5765352</th>\n",
       "      <td>81496937</td>\n",
       "      <td>f62b0e51fc59cca8af70942e12554765</td>\n",
       "      <td>deathrock</td>\n",
       "      <td>2014-01-01 06:48:10</td>\n",
       "      <td>0.3250</td>\n",
       "    </tr>\n",
       "    <tr>\n",
       "      <th>5765353</th>\n",
       "      <td>81496937</td>\n",
       "      <td>d99853238d61833e3158a0fe76425ca2</td>\n",
       "      <td>deathrock</td>\n",
       "      <td>2014-01-01 07:13:02</td>\n",
       "      <td>0.3250</td>\n",
       "    </tr>\n",
       "    <tr>\n",
       "      <th>5765354</th>\n",
       "      <td>81496937</td>\n",
       "      <td>977837bd00f5374b5d0586ba2538523c</td>\n",
       "      <td>deathrock</td>\n",
       "      <td>2014-01-01 07:20:04</td>\n",
       "      <td>0.3250</td>\n",
       "    </tr>\n",
       "    <tr>\n",
       "      <th>...</th>\n",
       "      <td>...</td>\n",
       "      <td>...</td>\n",
       "      <td>...</td>\n",
       "      <td>...</td>\n",
       "      <td>...</td>\n",
       "    </tr>\n",
       "    <tr>\n",
       "      <th>5956931</th>\n",
       "      <td>1549216658</td>\n",
       "      <td>fbfd4b6ff80084a38f596257089009fc</td>\n",
       "      <td>ripjoecocker</td>\n",
       "      <td>2014-12-22 23:31:40</td>\n",
       "      <td>0.3000</td>\n",
       "    </tr>\n",
       "    <tr>\n",
       "      <th>5956932</th>\n",
       "      <td>1197582204</td>\n",
       "      <td>8b64dd68664629ec26788144aa704019</td>\n",
       "      <td>romanticlove</td>\n",
       "      <td>2014-12-23 03:27:41</td>\n",
       "      <td>0.8667</td>\n",
       "    </tr>\n",
       "    <tr>\n",
       "      <th>5956933</th>\n",
       "      <td>2214995293</td>\n",
       "      <td>8b64dd68664629ec26788144aa704019</td>\n",
       "      <td>romanticlove</td>\n",
       "      <td>2014-12-23 03:27:55</td>\n",
       "      <td>0.8667</td>\n",
       "    </tr>\n",
       "    <tr>\n",
       "      <th>5956934</th>\n",
       "      <td>186008229</td>\n",
       "      <td>c4a0c3feae47b6e6a09141483782302f</td>\n",
       "      <td>confused</td>\n",
       "      <td>2014-12-23 03:49:11</td>\n",
       "      <td>0.3000</td>\n",
       "    </tr>\n",
       "    <tr>\n",
       "      <th>5956935</th>\n",
       "      <td>26274755</td>\n",
       "      <td>6adc880dc402b81f77b8c7c5b436c303</td>\n",
       "      <td>criminallyunderrated</td>\n",
       "      <td>2014-12-23 07:18:15</td>\n",
       "      <td>0.3000</td>\n",
       "    </tr>\n",
       "  </tbody>\n",
       "</table>\n",
       "<p>88249 rows × 5 columns</p>\n",
       "</div>"
      ],
      "text/plain": [
       "            user_id                          track_id               hashtag  \\\n",
       "5765350    81496937  cd52b3e5b51da29e5893dba82a418a4b             deathrock   \n",
       "5765351    81496937  29cb3f8f366888158226c810b3fee372             deathrock   \n",
       "5765352    81496937  f62b0e51fc59cca8af70942e12554765             deathrock   \n",
       "5765353    81496937  d99853238d61833e3158a0fe76425ca2             deathrock   \n",
       "5765354    81496937  977837bd00f5374b5d0586ba2538523c             deathrock   \n",
       "...             ...                               ...                   ...   \n",
       "5956931  1549216658  fbfd4b6ff80084a38f596257089009fc          ripjoecocker   \n",
       "5956932  1197582204  8b64dd68664629ec26788144aa704019          romanticlove   \n",
       "5956933  2214995293  8b64dd68664629ec26788144aa704019          romanticlove   \n",
       "5956934   186008229  c4a0c3feae47b6e6a09141483782302f              confused   \n",
       "5956935    26274755  6adc880dc402b81f77b8c7c5b436c303  criminallyunderrated   \n",
       "\n",
       "                  created_at  sentiment  \n",
       "5765350  2014-01-01 05:54:21     0.3250  \n",
       "5765351  2014-01-01 06:42:12     0.3250  \n",
       "5765352  2014-01-01 06:48:10     0.3250  \n",
       "5765353  2014-01-01 07:13:02     0.3250  \n",
       "5765354  2014-01-01 07:20:04     0.3250  \n",
       "...                      ...        ...  \n",
       "5956931  2014-12-22 23:31:40     0.3000  \n",
       "5956932  2014-12-23 03:27:41     0.8667  \n",
       "5956933  2014-12-23 03:27:55     0.8667  \n",
       "5956934  2014-12-23 03:49:11     0.3000  \n",
       "5956935  2014-12-23 07:18:15     0.3000  \n",
       "\n",
       "[88249 rows x 5 columns]"
      ]
     },
     "execution_count": 16,
     "metadata": {},
     "output_type": "execute_result"
    }
   ],
   "source": [
    "df_base2 = df_base[~df_base['hashtag'].isin(hashtag_excl)]\n",
    "\n",
    "df_base2"
   ]
  },
  {
   "cell_type": "markdown",
   "metadata": {},
   "source": [
    "Filtering out the listed hashtags left us with a dataset of `88,249` rows. This is a very huge reduction from our base dataset of ~6M. Ideally, we want to have a larger dataset as it offers more generalizability but since the removed hashtags do not necessarily convey emotion, results from the larger dataset might lead to incorrect patterns. \n",
    "\n",
    "If we keep `nowplaying`, the mined frequent patterns might center around `0.6` (sentiment score of the hashtag), suggesting that those songs are generally on the positive end, but in reality they might have different scores, the sheer volume of `nowplaying` only masked those results."
   ]
  },
  {
   "cell_type": "code",
   "execution_count": 17,
   "metadata": {
    "ExecuteTime": {
     "end_time": "2020-11-02T06:35:01.474688Z",
     "start_time": "2020-11-02T06:35:01.455295Z"
    }
   },
   "outputs": [
    {
     "data": {
      "text/plain": [
       "deathrock          24964\n",
       "doommetal          12222\n",
       "stonerrock         12220\n",
       "rock                9799\n",
       "realclassicrock     2498\n",
       "rockmusic           2459\n",
       "hardrock            1946\n",
       "enjoy               1941\n",
       "goodmemories        1900\n",
       "goodmusic           1295\n",
       "like                1098\n",
       "gossip               608\n",
       "love                 566\n",
       "happyholidays        551\n",
       "silly                532\n",
       "gamewinner           518\n",
       "theclash             343\n",
       "thekills             326\n",
       "classicrock          287\n",
       "festival             273\n",
       "Name: hashtag, dtype: int64"
      ]
     },
     "execution_count": 17,
     "metadata": {},
     "output_type": "execute_result"
    }
   ],
   "source": [
    "df_base2['hashtag'].value_counts(ascending=False)[:20]"
   ]
  },
  {
   "cell_type": "markdown",
   "metadata": {},
   "source": [
    "The new top 20 hashtags are shown above, where the hastags are more emotion-conveying words than the previous initial list"
   ]
  },
  {
   "cell_type": "markdown",
   "metadata": {},
   "source": [
    "### 4.6 Filtering for English only tweets\n",
    "\n",
    "To have a more focused analysis, we will only be dealing with tweets and hashtags in English. Tweets and hashtags in different languages might have more cultural bias than we can spot so by focusing on English-only tweets, we can potentially minimize this effect. To accomplish this, we'll use the 3rd dataset, `context_content_features.csv`, which has the `tweet_lang` column"
   ]
  },
  {
   "cell_type": "code",
   "execution_count": 18,
   "metadata": {
    "ExecuteTime": {
     "end_time": "2020-11-02T06:35:02.022643Z",
     "start_time": "2020-11-02T06:35:01.476387Z"
    }
   },
   "outputs": [
    {
     "data": {
      "text/plain": [
       "array(['en', 'et', 'es', 'sk', 'de', 'id', 'sl', 'pl', 'ja', 'pt', 'fr',\n",
       "       'zh', 'el', 'tl', 'ko', 'vi', 'ru', 'it', 'ht', 'nl', 'sv', 'no',\n",
       "       'da', 'tr', 'is', 'fi', 'lv', 'fa', 'hu', 'th', 'uk', 'bg', 'lt',\n",
       "       'ar', 'he', 'in', 'iw', 'hy', 'ur', 'cy', 'ro', 'hr', 'bs', 'sr',\n",
       "       'und', 'ka'], dtype=object)"
      ]
     },
     "execution_count": 18,
     "metadata": {},
     "output_type": "execute_result"
    }
   ],
   "source": [
    "df3['tweet_lang'].unique()"
   ]
  },
  {
   "cell_type": "code",
   "execution_count": 19,
   "metadata": {
    "ExecuteTime": {
     "end_time": "2020-11-02T06:35:02.951826Z",
     "start_time": "2020-11-02T06:35:02.024468Z"
    }
   },
   "outputs": [
    {
     "data": {
      "text/plain": [
       "en    10407599\n",
       "es      270180\n",
       "et      114205\n",
       "ja       94981\n",
       "in       80476\n",
       "de       74717\n",
       "it       69684\n",
       "sk       69046\n",
       "fr       66555\n",
       "ht       60616\n",
       "Name: tweet_lang, dtype: int64"
      ]
     },
     "execution_count": 19,
     "metadata": {},
     "output_type": "execute_result"
    }
   ],
   "source": [
    "df3['tweet_lang'].value_counts()[:10]"
   ]
  },
  {
   "cell_type": "markdown",
   "metadata": {},
   "source": [
    "The number of tweets that are in English are still an overwhelmingly majority, ~10,407,599 tweets/listening events in English. In the context of this dataset, removing tweets in other languages won't be an issue since there are still a lot of English tweets that will be left."
   ]
  },
  {
   "cell_type": "code",
   "execution_count": 20,
   "metadata": {
    "ExecuteTime": {
     "end_time": "2020-11-02T06:35:04.891129Z",
     "start_time": "2020-11-02T06:35:02.953367Z"
    }
   },
   "outputs": [
    {
     "data": {
      "text/html": [
       "<div>\n",
       "<style scoped>\n",
       "    .dataframe tbody tr th:only-of-type {\n",
       "        vertical-align: middle;\n",
       "    }\n",
       "\n",
       "    .dataframe tbody tr th {\n",
       "        vertical-align: top;\n",
       "    }\n",
       "\n",
       "    .dataframe thead th {\n",
       "        text-align: right;\n",
       "    }\n",
       "</style>\n",
       "<table border=\"1\" class=\"dataframe\">\n",
       "  <thead>\n",
       "    <tr style=\"text-align: right;\">\n",
       "      <th></th>\n",
       "      <th>user_id</th>\n",
       "      <th>track_id</th>\n",
       "      <th>created_at</th>\n",
       "      <th>tweet_lang</th>\n",
       "    </tr>\n",
       "  </thead>\n",
       "  <tbody>\n",
       "    <tr>\n",
       "      <th>0</th>\n",
       "      <td>81496937</td>\n",
       "      <td>cd52b3e5b51da29e5893dba82a418a4b</td>\n",
       "      <td>2014-01-01 05:54:21</td>\n",
       "      <td>en</td>\n",
       "    </tr>\n",
       "    <tr>\n",
       "      <th>1</th>\n",
       "      <td>2205686924</td>\n",
       "      <td>da3110a77b724072b08f231c9d6f7534</td>\n",
       "      <td>2014-01-01 05:54:22</td>\n",
       "      <td>en</td>\n",
       "    </tr>\n",
       "    <tr>\n",
       "      <th>2</th>\n",
       "      <td>132588395</td>\n",
       "      <td>ba84d88c10fb0e42d4754a27ead10546</td>\n",
       "      <td>2014-01-01 05:54:22</td>\n",
       "      <td>en</td>\n",
       "    </tr>\n",
       "    <tr>\n",
       "      <th>3</th>\n",
       "      <td>97675221</td>\n",
       "      <td>33f95122281f76e7134f9cbea3be980f</td>\n",
       "      <td>2014-01-01 05:54:24</td>\n",
       "      <td>en</td>\n",
       "    </tr>\n",
       "    <tr>\n",
       "      <th>4</th>\n",
       "      <td>17945688</td>\n",
       "      <td>b5c42e81e15cd54b9b0ee34711dedf05</td>\n",
       "      <td>2014-01-01 05:54:24</td>\n",
       "      <td>en</td>\n",
       "    </tr>\n",
       "    <tr>\n",
       "      <th>...</th>\n",
       "      <td>...</td>\n",
       "      <td>...</td>\n",
       "      <td>...</td>\n",
       "      <td>...</td>\n",
       "    </tr>\n",
       "    <tr>\n",
       "      <th>11614666</th>\n",
       "      <td>431143812</td>\n",
       "      <td>da58ba1ca758809bb86aa8e3a36d1ecc</td>\n",
       "      <td>2014-12-23 07:21:02</td>\n",
       "      <td>en</td>\n",
       "    </tr>\n",
       "    <tr>\n",
       "      <th>11614667</th>\n",
       "      <td>2819332208</td>\n",
       "      <td>03498f305040835c5f76d7c5660204a2</td>\n",
       "      <td>2014-12-23 07:21:04</td>\n",
       "      <td>en</td>\n",
       "    </tr>\n",
       "    <tr>\n",
       "      <th>11614668</th>\n",
       "      <td>154070865</td>\n",
       "      <td>8bacefe018a221d933529dd466e7c1c0</td>\n",
       "      <td>2014-12-23 07:21:07</td>\n",
       "      <td>en</td>\n",
       "    </tr>\n",
       "    <tr>\n",
       "      <th>11614669</th>\n",
       "      <td>985591650</td>\n",
       "      <td>0e64c11b9a77e93f343f9c1c0cdbcf54</td>\n",
       "      <td>2014-12-23 07:21:08</td>\n",
       "      <td>en</td>\n",
       "    </tr>\n",
       "    <tr>\n",
       "      <th>11614670</th>\n",
       "      <td>15518784</td>\n",
       "      <td>af5c5f220e0a872ac129f4f88b3db5f9</td>\n",
       "      <td>2014-12-23 07:21:11</td>\n",
       "      <td>en</td>\n",
       "    </tr>\n",
       "  </tbody>\n",
       "</table>\n",
       "<p>10407599 rows × 4 columns</p>\n",
       "</div>"
      ],
      "text/plain": [
       "             user_id                          track_id           created_at  \\\n",
       "0           81496937  cd52b3e5b51da29e5893dba82a418a4b  2014-01-01 05:54:21   \n",
       "1         2205686924  da3110a77b724072b08f231c9d6f7534  2014-01-01 05:54:22   \n",
       "2          132588395  ba84d88c10fb0e42d4754a27ead10546  2014-01-01 05:54:22   \n",
       "3           97675221  33f95122281f76e7134f9cbea3be980f  2014-01-01 05:54:24   \n",
       "4           17945688  b5c42e81e15cd54b9b0ee34711dedf05  2014-01-01 05:54:24   \n",
       "...              ...                               ...                  ...   \n",
       "11614666   431143812  da58ba1ca758809bb86aa8e3a36d1ecc  2014-12-23 07:21:02   \n",
       "11614667  2819332208  03498f305040835c5f76d7c5660204a2  2014-12-23 07:21:04   \n",
       "11614668   154070865  8bacefe018a221d933529dd466e7c1c0  2014-12-23 07:21:07   \n",
       "11614669   985591650  0e64c11b9a77e93f343f9c1c0cdbcf54  2014-12-23 07:21:08   \n",
       "11614670    15518784  af5c5f220e0a872ac129f4f88b3db5f9  2014-12-23 07:21:11   \n",
       "\n",
       "         tweet_lang  \n",
       "0                en  \n",
       "1                en  \n",
       "2                en  \n",
       "3                en  \n",
       "4                en  \n",
       "...             ...  \n",
       "11614666         en  \n",
       "11614667         en  \n",
       "11614668         en  \n",
       "11614669         en  \n",
       "11614670         en  \n",
       "\n",
       "[10407599 rows x 4 columns]"
      ]
     },
     "execution_count": 20,
     "metadata": {},
     "output_type": "execute_result"
    }
   ],
   "source": [
    "df_en = (df3[['user_id','track_id','created_at','tweet_lang']]\n",
    "         .loc[df3['tweet_lang'] == 'en'])\n",
    "\n",
    "df_en"
   ]
  },
  {
   "cell_type": "code",
   "execution_count": 21,
   "metadata": {
    "ExecuteTime": {
     "end_time": "2020-11-02T06:35:18.109104Z",
     "start_time": "2020-11-02T06:35:04.892841Z"
    }
   },
   "outputs": [
    {
     "data": {
      "text/html": [
       "<div>\n",
       "<style scoped>\n",
       "    .dataframe tbody tr th:only-of-type {\n",
       "        vertical-align: middle;\n",
       "    }\n",
       "\n",
       "    .dataframe tbody tr th {\n",
       "        vertical-align: top;\n",
       "    }\n",
       "\n",
       "    .dataframe thead th {\n",
       "        text-align: right;\n",
       "    }\n",
       "</style>\n",
       "<table border=\"1\" class=\"dataframe\">\n",
       "  <thead>\n",
       "    <tr style=\"text-align: right;\">\n",
       "      <th></th>\n",
       "      <th>user_id</th>\n",
       "      <th>track_id</th>\n",
       "      <th>hashtag</th>\n",
       "      <th>created_at</th>\n",
       "      <th>sentiment</th>\n",
       "      <th>tweet_lang</th>\n",
       "    </tr>\n",
       "  </thead>\n",
       "  <tbody>\n",
       "    <tr>\n",
       "      <th>0</th>\n",
       "      <td>81496937</td>\n",
       "      <td>cd52b3e5b51da29e5893dba82a418a4b</td>\n",
       "      <td>deathrock</td>\n",
       "      <td>2014-01-01 05:54:21</td>\n",
       "      <td>0.325</td>\n",
       "      <td>en</td>\n",
       "    </tr>\n",
       "    <tr>\n",
       "      <th>1</th>\n",
       "      <td>81496937</td>\n",
       "      <td>29cb3f8f366888158226c810b3fee372</td>\n",
       "      <td>deathrock</td>\n",
       "      <td>2014-01-01 06:42:12</td>\n",
       "      <td>0.325</td>\n",
       "      <td>en</td>\n",
       "    </tr>\n",
       "    <tr>\n",
       "      <th>2</th>\n",
       "      <td>81496937</td>\n",
       "      <td>f62b0e51fc59cca8af70942e12554765</td>\n",
       "      <td>deathrock</td>\n",
       "      <td>2014-01-01 06:48:10</td>\n",
       "      <td>0.325</td>\n",
       "      <td>en</td>\n",
       "    </tr>\n",
       "    <tr>\n",
       "      <th>3</th>\n",
       "      <td>81496937</td>\n",
       "      <td>d99853238d61833e3158a0fe76425ca2</td>\n",
       "      <td>deathrock</td>\n",
       "      <td>2014-01-01 07:13:02</td>\n",
       "      <td>0.325</td>\n",
       "      <td>en</td>\n",
       "    </tr>\n",
       "    <tr>\n",
       "      <th>4</th>\n",
       "      <td>81496937</td>\n",
       "      <td>977837bd00f5374b5d0586ba2538523c</td>\n",
       "      <td>deathrock</td>\n",
       "      <td>2014-01-01 07:20:04</td>\n",
       "      <td>0.325</td>\n",
       "      <td>en</td>\n",
       "    </tr>\n",
       "    <tr>\n",
       "      <th>...</th>\n",
       "      <td>...</td>\n",
       "      <td>...</td>\n",
       "      <td>...</td>\n",
       "      <td>...</td>\n",
       "      <td>...</td>\n",
       "      <td>...</td>\n",
       "    </tr>\n",
       "    <tr>\n",
       "      <th>81972</th>\n",
       "      <td>16186878</td>\n",
       "      <td>6a313e5a64929522b763ba5d95812329</td>\n",
       "      <td>getshitdone</td>\n",
       "      <td>2014-12-21 07:27:02</td>\n",
       "      <td>0.300</td>\n",
       "      <td>en</td>\n",
       "    </tr>\n",
       "    <tr>\n",
       "      <th>81973</th>\n",
       "      <td>144627010</td>\n",
       "      <td>2697225b5c71fe617f05df700c581d87</td>\n",
       "      <td>smellslikeholidays</td>\n",
       "      <td>2014-12-22 12:41:06</td>\n",
       "      <td>0.700</td>\n",
       "      <td>en</td>\n",
       "    </tr>\n",
       "    <tr>\n",
       "      <th>81974</th>\n",
       "      <td>478107841</td>\n",
       "      <td>4dd8aad25817ac873fa581d20dcf2c84</td>\n",
       "      <td>fuckyours</td>\n",
       "      <td>2014-12-22 17:54:55</td>\n",
       "      <td>0.200</td>\n",
       "      <td>en</td>\n",
       "    </tr>\n",
       "    <tr>\n",
       "      <th>81975</th>\n",
       "      <td>1549216658</td>\n",
       "      <td>fbfd4b6ff80084a38f596257089009fc</td>\n",
       "      <td>ripjoecocker</td>\n",
       "      <td>2014-12-22 23:31:40</td>\n",
       "      <td>0.300</td>\n",
       "      <td>en</td>\n",
       "    </tr>\n",
       "    <tr>\n",
       "      <th>81976</th>\n",
       "      <td>186008229</td>\n",
       "      <td>c4a0c3feae47b6e6a09141483782302f</td>\n",
       "      <td>confused</td>\n",
       "      <td>2014-12-23 03:49:11</td>\n",
       "      <td>0.300</td>\n",
       "      <td>en</td>\n",
       "    </tr>\n",
       "  </tbody>\n",
       "</table>\n",
       "<p>81977 rows × 6 columns</p>\n",
       "</div>"
      ],
      "text/plain": [
       "          user_id                          track_id             hashtag  \\\n",
       "0        81496937  cd52b3e5b51da29e5893dba82a418a4b           deathrock   \n",
       "1        81496937  29cb3f8f366888158226c810b3fee372           deathrock   \n",
       "2        81496937  f62b0e51fc59cca8af70942e12554765           deathrock   \n",
       "3        81496937  d99853238d61833e3158a0fe76425ca2           deathrock   \n",
       "4        81496937  977837bd00f5374b5d0586ba2538523c           deathrock   \n",
       "...           ...                               ...                 ...   \n",
       "81972    16186878  6a313e5a64929522b763ba5d95812329         getshitdone   \n",
       "81973   144627010  2697225b5c71fe617f05df700c581d87  smellslikeholidays   \n",
       "81974   478107841  4dd8aad25817ac873fa581d20dcf2c84           fuckyours   \n",
       "81975  1549216658  fbfd4b6ff80084a38f596257089009fc        ripjoecocker   \n",
       "81976   186008229  c4a0c3feae47b6e6a09141483782302f            confused   \n",
       "\n",
       "                created_at  sentiment tweet_lang  \n",
       "0      2014-01-01 05:54:21      0.325         en  \n",
       "1      2014-01-01 06:42:12      0.325         en  \n",
       "2      2014-01-01 06:48:10      0.325         en  \n",
       "3      2014-01-01 07:13:02      0.325         en  \n",
       "4      2014-01-01 07:20:04      0.325         en  \n",
       "...                    ...        ...        ...  \n",
       "81972  2014-12-21 07:27:02      0.300         en  \n",
       "81973  2014-12-22 12:41:06      0.700         en  \n",
       "81974  2014-12-22 17:54:55      0.200         en  \n",
       "81975  2014-12-22 23:31:40      0.300         en  \n",
       "81976  2014-12-23 03:49:11      0.300         en  \n",
       "\n",
       "[81977 rows x 6 columns]"
      ]
     },
     "execution_count": 21,
     "metadata": {},
     "output_type": "execute_result"
    }
   ],
   "source": [
    "df_main = pd.merge(df_base2, df_en, on=['user_id','track_id','created_at'])\n",
    "\n",
    "df_main"
   ]
  },
  {
   "cell_type": "markdown",
   "metadata": {},
   "source": [
    "After filtering for English only tweets, we are left with a dataset with `81,977` rows.\n",
    "\n",
    "With this main dataset, we can now proceed with building the transactional database that will be used to mine patterns and rules."
   ]
  },
  {
   "cell_type": "markdown",
   "metadata": {},
   "source": [
    "## 5 Frequent Itemset Mining"
   ]
  },
  {
   "cell_type": "markdown",
   "metadata": {},
   "source": [
    "### 5.1 Defining the transactional database\n",
    "\n",
    "In creating the transactional database, we need to define two things: (1) what a transaction is and (2) the basket of items. For this dataset, we can define a transaction to be a unique listening event. In the dataset created above, we can identify unique listening events via unique combinations of `user_id` and timestamp (`created_at`).\n",
    "\n",
    "For the basket of items, since we are interested in identifying patterns and rules between emotion state and songs, we define a basket to be the emotion score plus the song for a given listening event (`sentiment` + `track_id`)."
   ]
  },
  {
   "cell_type": "code",
   "execution_count": 22,
   "metadata": {
    "ExecuteTime": {
     "end_time": "2020-11-02T06:35:18.946905Z",
     "start_time": "2020-11-02T06:35:18.110864Z"
    }
   },
   "outputs": [
    {
     "data": {
      "text/html": [
       "<div>\n",
       "<style scoped>\n",
       "    .dataframe tbody tr th:only-of-type {\n",
       "        vertical-align: middle;\n",
       "    }\n",
       "\n",
       "    .dataframe tbody tr th {\n",
       "        vertical-align: top;\n",
       "    }\n",
       "\n",
       "    .dataframe thead th {\n",
       "        text-align: right;\n",
       "    }\n",
       "</style>\n",
       "<table border=\"1\" class=\"dataframe\">\n",
       "  <thead>\n",
       "    <tr style=\"text-align: right;\">\n",
       "      <th></th>\n",
       "      <th>item</th>\n",
       "    </tr>\n",
       "    <tr>\n",
       "      <th>event_id</th>\n",
       "      <th></th>\n",
       "    </tr>\n",
       "  </thead>\n",
       "  <tbody>\n",
       "    <tr>\n",
       "      <th>100053478-2014-07-02 16:45:07</th>\n",
       "      <td>{0.8, 846524c02bf2f42761e419b0d78ce496}</td>\n",
       "    </tr>\n",
       "    <tr>\n",
       "      <th>1001175709-2014-11-13 11:38:39</th>\n",
       "      <td>{0.8, 5b3bae0d2cc16c4e2d1460c00ccf2389}</td>\n",
       "    </tr>\n",
       "    <tr>\n",
       "      <th>100210995-2014-09-17 16:02:26</th>\n",
       "      <td>{0.7, f05a35bcf60b33b431f6df0b807f05cf}</td>\n",
       "    </tr>\n",
       "    <tr>\n",
       "      <th>1003521408-2014-10-20 16:15:34</th>\n",
       "      <td>{0.2, af801dee3deb09a955868ff86a226b32}</td>\n",
       "    </tr>\n",
       "    <tr>\n",
       "      <th>1006840309-2014-01-05 12:02:36</th>\n",
       "      <td>{0.2, 801349b3f2b66b437b9e6dfb4121895b}</td>\n",
       "    </tr>\n",
       "    <tr>\n",
       "      <th>...</th>\n",
       "      <td>...</td>\n",
       "    </tr>\n",
       "    <tr>\n",
       "      <th>99271482-2014-11-14 17:02:59</th>\n",
       "      <td>{0.3, 5b19e8f1f04d80db36ca29231576d1f6}</td>\n",
       "    </tr>\n",
       "    <tr>\n",
       "      <th>99271482-2014-11-14 17:10:37</th>\n",
       "      <td>{0.3, 3e1900d6c1b90817a926c9533298428e}</td>\n",
       "    </tr>\n",
       "    <tr>\n",
       "      <th>992759750-2014-07-12 15:09:48</th>\n",
       "      <td>{0.2, 690f6d96d74e425e7776cfa437db740a}</td>\n",
       "    </tr>\n",
       "    <tr>\n",
       "      <th>99748920-2014-02-19 17:01:03</th>\n",
       "      <td>{0.8, c52950d95138788fe8a108f6c48c9ad9}</td>\n",
       "    </tr>\n",
       "    <tr>\n",
       "      <th>99748920-2014-05-01 01:13:14</th>\n",
       "      <td>{0.4, d7461749a221e1664c90aff090f0eeda}</td>\n",
       "    </tr>\n",
       "  </tbody>\n",
       "</table>\n",
       "<p>66485 rows × 1 columns</p>\n",
       "</div>"
      ],
      "text/plain": [
       "                                                                   item\n",
       "event_id                                                               \n",
       "100053478-2014-07-02 16:45:07   {0.8, 846524c02bf2f42761e419b0d78ce496}\n",
       "1001175709-2014-11-13 11:38:39  {0.8, 5b3bae0d2cc16c4e2d1460c00ccf2389}\n",
       "100210995-2014-09-17 16:02:26   {0.7, f05a35bcf60b33b431f6df0b807f05cf}\n",
       "1003521408-2014-10-20 16:15:34  {0.2, af801dee3deb09a955868ff86a226b32}\n",
       "1006840309-2014-01-05 12:02:36  {0.2, 801349b3f2b66b437b9e6dfb4121895b}\n",
       "...                                                                 ...\n",
       "99271482-2014-11-14 17:02:59    {0.3, 5b19e8f1f04d80db36ca29231576d1f6}\n",
       "99271482-2014-11-14 17:10:37    {0.3, 3e1900d6c1b90817a926c9533298428e}\n",
       "992759750-2014-07-12 15:09:48   {0.2, 690f6d96d74e425e7776cfa437db740a}\n",
       "99748920-2014-02-19 17:01:03    {0.8, c52950d95138788fe8a108f6c48c9ad9}\n",
       "99748920-2014-05-01 01:13:14    {0.4, d7461749a221e1664c90aff090f0eeda}\n",
       "\n",
       "[66485 rows x 1 columns]"
      ]
     },
     "execution_count": 22,
     "metadata": {},
     "output_type": "execute_result"
    }
   ],
   "source": [
    "df_main['event_id'] = (df_main['user_id'].astype(str) \n",
    "                       + '-' \n",
    "                       + df_main['created_at'].astype(str))\n",
    "\n",
    "df_temp = pd.concat([df_main[['event_id','sentiment']]\n",
    "                     .rename(columns={'sentiment':'item'}),\n",
    "                     df_main[['event_id','track_id']]\n",
    "                     .rename(columns={'track_id':'item'})])\n",
    "\n",
    "df_trans = df_temp.groupby('event_id')['item'].agg(set)\n",
    "\n",
    "pd.DataFrame(df_trans)"
   ]
  },
  {
   "cell_type": "markdown",
   "metadata": {},
   "source": [
    "The cell above combines the songs and emotion scores together in one column, `item`. The resulting dataframe (`df_temp`) is then manipulated to create the transactional database (`df_trans`) by grouping the `event_id` and then aggregating via items via the `set` function."
   ]
  },
  {
   "cell_type": "markdown",
   "metadata": {},
   "source": [
    "#### 5.1.1 Addressing the `track_id` issue in the transactional database\n",
    "\n",
    "One obvious issue in the transaction database above is that the songs are left in their ID-format. We might have a hard time interpreting the patterns and rules if the songs are left as `track_id`s. At the very least, we want the songs to be represented by their titles. There are 9901 unique `track_id`s in the main dataset and in the sections below, we will try to scrape the track titles via the Spotify API."
   ]
  },
  {
   "cell_type": "code",
   "execution_count": 23,
   "metadata": {
    "ExecuteTime": {
     "end_time": "2020-11-02T06:35:19.729796Z",
     "start_time": "2020-11-02T06:35:18.952936Z"
    }
   },
   "outputs": [
    {
     "data": {
      "text/plain": [
       "'Unique track ID count: 9901'"
      ]
     },
     "metadata": {},
     "output_type": "display_data"
    }
   ],
   "source": [
    "display(f\"Unique track ID count: {df_main['track_id'].nunique()}\")"
   ]
  },
  {
   "cell_type": "markdown",
   "metadata": {
    "ExecuteTime": {
     "end_time": "2020-11-01T12:08:33.260549Z",
     "start_time": "2020-11-01T12:08:33.257120Z"
    }
   },
   "source": [
    "### 5.2 Scraping for Track Titles via Spotify API\n",
    "\n",
    "<div class=\"alert alert-block alert-warning\">\n",
    "    <b>Note to reader / reviewer:</b> This section will error if ran top to bottom since we did not include the client ID and client secret key in the submission for safety and privacy purposes.\n",
    "</div>"
   ]
  },
  {
   "cell_type": "markdown",
   "metadata": {},
   "source": [
    "#### 5.2.1 Spotify Initialization"
   ]
  },
  {
   "cell_type": "code",
   "execution_count": 24,
   "metadata": {
    "ExecuteTime": {
     "end_time": "2020-11-02T06:35:20.057877Z",
     "start_time": "2020-11-02T06:35:19.743822Z"
    }
   },
   "outputs": [],
   "source": [
    "# Establishing of Credentials for Authorization\n",
    "\n",
    "with open('spotify_client_id.txt') as f:\n",
    "    client_id = f.read().strip()\n",
    "\n",
    "with open('spotify_client_secret.txt') as f:\n",
    "    client_secret = f.read().strip()\n",
    "\n",
    "credentials = str(base64.b64encode(\n",
    "    f'{client_id}:{client_secret}'.encode('utf8')), 'utf8')\n",
    "\n",
    "# Connecting to Spotify\n",
    "\n",
    "session = requests.Session()\n",
    "\n",
    "session.post('https://accounts.spotify.com/api/token',\n",
    "             data=dict(grant_type='client_credentials'),\n",
    "             headers=dict(Authorization=f'Basic {credentials}'))\n",
    "\n",
    "# Client O Auth\n",
    "client = BackendApplicationClient(client_id=client_id)\n",
    "oauth = OAuth2Session(client=client)\n",
    "\n",
    "# Token Authorization\n",
    "\n",
    "token = oauth.fetch_token(\n",
    "    token_url='https://accounts.spotify.com/api/token', \n",
    "    client_id=client_id,\n",
    "    client_secret=client_secret)"
   ]
  },
  {
   "cell_type": "markdown",
   "metadata": {},
   "source": [
    "#### 5.2.2 Scraping titles of songs in the `nowplaying-RS` dataset\n",
    "\n",
    "In this section, the track endpoint of the Spotify API will be used in scraping the track titles. A sample run consisting of 10 IDs will also be done first."
   ]
  },
  {
   "cell_type": "code",
   "execution_count": 25,
   "metadata": {
    "ExecuteTime": {
     "end_time": "2020-11-02T06:35:20.068964Z",
     "start_time": "2020-11-02T06:35:20.060215Z"
    }
   },
   "outputs": [
    {
     "data": {
      "text/plain": [
       "['cd52b3e5b51da29e5893dba82a418a4b',\n",
       " '29cb3f8f366888158226c810b3fee372',\n",
       " 'f62b0e51fc59cca8af70942e12554765',\n",
       " 'd99853238d61833e3158a0fe76425ca2',\n",
       " '977837bd00f5374b5d0586ba2538523c',\n",
       " '29cdaf72904d9bbe34c7aba19edbb25c',\n",
       " '2424f31a8a671fa679a12fce2524088a',\n",
       " '7eb2947fe56ee6f43359e01247928817',\n",
       " 'fb617d07f4b4ec5398c8444a9643f4d0',\n",
       " 'de0a51296f6982bb1cba708975c7230c']"
      ]
     },
     "execution_count": 25,
     "metadata": {},
     "output_type": "execute_result"
    }
   ],
   "source": [
    "track_ids = df_main['track_id'].tolist()\n",
    "\n",
    "track_ids[:10]"
   ]
  },
  {
   "cell_type": "code",
   "execution_count": 26,
   "metadata": {
    "ExecuteTime": {
     "end_time": "2020-11-02T06:35:20.326752Z",
     "start_time": "2020-11-02T06:35:20.071430Z"
    }
   },
   "outputs": [
    {
     "data": {
      "text/plain": [
       "{'tracks': [None]}"
      ]
     },
     "execution_count": 26,
     "metadata": {},
     "output_type": "execute_result"
    }
   ],
   "source": [
    "track_endpoint = \"https://api.spotify.com/v1/tracks\"\n",
    "\n",
    "\n",
    "titles_rs = oauth.get(track_endpoint, \n",
    "          params={'ids':track_ids[:10]}).json()\n",
    "\n",
    "titles_rs"
   ]
  },
  {
   "cell_type": "markdown",
   "metadata": {},
   "source": [
    "The request does not return anything if we use the list of 10 IDs"
   ]
  },
  {
   "cell_type": "code",
   "execution_count": 27,
   "metadata": {
    "ExecuteTime": {
     "end_time": "2020-11-02T06:35:20.386176Z",
     "start_time": "2020-11-02T06:35:20.329849Z"
    }
   },
   "outputs": [
    {
     "data": {
      "text/plain": [
       "{'tracks': [None]}"
      ]
     },
     "execution_count": 27,
     "metadata": {},
     "output_type": "execute_result"
    }
   ],
   "source": [
    "titles_rs2 = oauth.get(track_endpoint, \n",
    "          params={'ids':'de0a51296f6982bb1cba708975c7230c'}).json()\n",
    "\n",
    "titles_rs2"
   ]
  },
  {
   "cell_type": "markdown",
   "metadata": {},
   "source": [
    "The request still does not return anything even if we use an ID in the last of the list, e.g. `de0a51296f6982bb1cba708975c7230c`"
   ]
  },
  {
   "cell_type": "markdown",
   "metadata": {},
   "source": [
    "#### 5.2.3 Showing that the issue is not with the scraping method\n",
    "\n",
    "Here, we try to get Spotify IDs by searching for songs via the Search Endpoint. We will then try to use the scraped track ID of these songs as input to the Track Endpoint."
   ]
  },
  {
   "cell_type": "code",
   "execution_count": 28,
   "metadata": {
    "ExecuteTime": {
     "end_time": "2020-11-02T06:35:20.477467Z",
     "start_time": "2020-11-02T06:35:20.388479Z"
    }
   },
   "outputs": [
    {
     "data": {
      "text/plain": [
       "[('Satisfied', 76, '3dP0pLbg9OfVwssDjp9aT0'),\n",
       " ('Alexander Hamilton', 75, '4TTV7EcfroSLWzXRY6gLv6'),\n",
       " ('The Schuyler Sisters', 75, '71X7bPDljJHrmEGYCe7kQ8'),\n",
       " (\"You'll Be Back\", 75, '6OG1S805gIrH5nAQbEOPY3'),\n",
       " ('My Shot', 75, '4cxvludVmQxryrnx1m9FqL'),\n",
       " ('Helpless', 74, '54Sc7mZQ1RM03STpk4SfaA')]"
      ]
     },
     "execution_count": 28,
     "metadata": {},
     "output_type": "execute_result"
    }
   ],
   "source": [
    "search_endpoint = \"https://api.spotify.com/v1/search\"\n",
    "\n",
    "\n",
    "hamilton = oauth.get(search_endpoint, \n",
    "          params=dict(q='album:Hamilton (Original Broadway Cast Recording)', \n",
    "                      type='track')).json()\n",
    "\n",
    "[(hamilton['tracks']['items'][i]['name'], \n",
    "  hamilton['tracks']['items'][i]['popularity'],\n",
    "  hamilton['tracks']['items'][i]['id'])\n",
    " for i in range(6)]"
   ]
  },
  {
   "cell_type": "markdown",
   "metadata": {},
   "source": [
    "The results above show the Top 5 songs of the album `Hamilton (Original Broadway Cast Recording)` in terms of popularity scores with their corresponding track IDs. By taking the track ID of `Satisfied`, and using it (`3dP0pLbg9OfVwssDjp9aT0`) as the query parameter in the track endpoint search, we can show that the problem lies with the how the `nowplaying-RS` listed their `track_id`s."
   ]
  },
  {
   "cell_type": "code",
   "execution_count": 29,
   "metadata": {
    "ExecuteTime": {
     "end_time": "2020-11-02T06:35:20.531790Z",
     "start_time": "2020-11-02T06:35:20.479315Z"
    }
   },
   "outputs": [
    {
     "data": {
      "text/plain": [
       "('Satisfied', 76, '3dP0pLbg9OfVwssDjp9aT0')"
      ]
     },
     "execution_count": 29,
     "metadata": {},
     "output_type": "execute_result"
    }
   ],
   "source": [
    "titles_ham = oauth.get(track_endpoint, \n",
    "          params={'ids':'3dP0pLbg9OfVwssDjp9aT0'}).json()\n",
    "\n",
    "titles_ham\n",
    "\n",
    "(titles_ham['tracks'][0]['name'], titles_ham['tracks'][0]['popularity'], \n",
    " titles_ham['tracks'][0]['id'])"
   ]
  },
  {
   "cell_type": "markdown",
   "metadata": {
    "ExecuteTime": {
     "end_time": "2020-11-01T12:04:09.913504Z",
     "start_time": "2020-11-01T12:04:09.906832Z"
    }
   },
   "source": [
    "From the results of the cell above, we have shown that we can scrape the details correctly given that the ID's are correct. Comparing the ID format given by spotify to the ID format given by the `nowplaying-RS` dataset, we can see that they differ in length a lot: `3dP0pLbg9OfVwssDjp9aT0` vs `de0a51296f6982bb1cba708975c7230c`.\n",
    "\n",
    "In their paper, they were able to scrape the track info from Spotify using their provided IDs so either Spotify changed the format of their IDs some time after the researchers collected their data or the disclosed IDs are not from Spotify. Either way, our hands are tied with this matter. Since it's not an issue of scraping and more of a technical issue with the dataset, keeping the songs in their `track_id` format seems to be the only available course of action."
   ]
  },
  {
   "cell_type": "markdown",
   "metadata": {},
   "source": [
    "### 5.3 Itemset Mining Implementation\n",
    "\n",
    "With the transaction database in place, we can now perform Frequent Itemset Mining. In this section, we opted to use pyFIM in executing the itemset mining to leverage its optimized code."
   ]
  },
  {
   "cell_type": "code",
   "execution_count": 30,
   "metadata": {
    "ExecuteTime": {
     "end_time": "2020-11-02T06:35:20.564990Z",
     "start_time": "2020-11-02T06:35:20.533935Z"
    }
   },
   "outputs": [
    {
     "name": "stdout",
     "output_type": "stream",
     "text": [
      "Number of items: 9942\n",
      "Number of transactions: 66485\n"
     ]
    }
   ],
   "source": [
    "print(f\"Number of items: {df_temp['item'].nunique()}\")\n",
    "print(f\"Number of transactions: {df_trans.shape[0]}\")"
   ]
  },
  {
   "cell_type": "markdown",
   "metadata": {
    "slideshow": {
     "slide_type": "slide"
    }
   },
   "source": [
    "In terms of which algorithm to use among Apriori, ECLAT, and FP-Growth, we opted to use FP-Growth to avoid multiple scannings of the database (Apriori) and to avoid the costly process of intersecting the itemsets (ECLAT). Brute force method was not even considered as it is generally the most costly in terms of time and computing power.\n",
    "\n",
    "In the implementation below, since our number of transactions is relatively small, with ~66k transactions only, we set the support to be at least 0.1% (relative support). The rationale is to be able to capture patterns at the low end which might still be of use to the end-user. Setting a high value for support might just result in patterns uninterpretable patterns. The number minimum items in an itemset was also set to be at least 2 for interpretability purposes. An itemset of 1 simply makes no sense in the context of this project."
   ]
  },
  {
   "cell_type": "code",
   "execution_count": 31,
   "metadata": {
    "ExecuteTime": {
     "end_time": "2020-11-02T06:35:20.656426Z",
     "start_time": "2020-11-02T06:35:20.567475Z"
    }
   },
   "outputs": [
    {
     "data": {
      "text/html": [
       "<div>\n",
       "<style scoped>\n",
       "    .dataframe tbody tr th:only-of-type {\n",
       "        vertical-align: middle;\n",
       "    }\n",
       "\n",
       "    .dataframe tbody tr th {\n",
       "        vertical-align: top;\n",
       "    }\n",
       "\n",
       "    .dataframe thead th {\n",
       "        text-align: right;\n",
       "    }\n",
       "</style>\n",
       "<table border=\"1\" class=\"dataframe\">\n",
       "  <thead>\n",
       "    <tr style=\"text-align: right;\">\n",
       "      <th></th>\n",
       "      <th>Item_set</th>\n",
       "      <th>Support</th>\n",
       "    </tr>\n",
       "  </thead>\n",
       "  <tbody>\n",
       "    <tr>\n",
       "      <th>0</th>\n",
       "      <td>(0.3, 0.7)</td>\n",
       "      <td>11775</td>\n",
       "    </tr>\n",
       "    <tr>\n",
       "      <th>1</th>\n",
       "      <td>(0.8, 0.7)</td>\n",
       "      <td>1579</td>\n",
       "    </tr>\n",
       "    <tr>\n",
       "      <th>2</th>\n",
       "      <td>(d53b2de022666067050dae8f6645edc2, 0.7)</td>\n",
       "      <td>344</td>\n",
       "    </tr>\n",
       "    <tr>\n",
       "      <th>3</th>\n",
       "      <td>(8918e32050c9e3bb2010a3a3747e3d24, 0.7)</td>\n",
       "      <td>343</td>\n",
       "    </tr>\n",
       "    <tr>\n",
       "      <th>4</th>\n",
       "      <td>(addc364df8649d91eb69b709cd1829c3, 0.4)</td>\n",
       "      <td>234</td>\n",
       "    </tr>\n",
       "    <tr>\n",
       "      <th>5</th>\n",
       "      <td>(f6b6e07e73e2084b3106e9ffe3d99f55, 0.3)</td>\n",
       "      <td>211</td>\n",
       "    </tr>\n",
       "    <tr>\n",
       "      <th>6</th>\n",
       "      <td>(f397b4a15f85fd11bfabcc0af7658af1, 0.4)</td>\n",
       "      <td>206</td>\n",
       "    </tr>\n",
       "    <tr>\n",
       "      <th>7</th>\n",
       "      <td>(91bd533b8654f2e0a8c243b2ffe7827f, 0.2)</td>\n",
       "      <td>181</td>\n",
       "    </tr>\n",
       "    <tr>\n",
       "      <th>8</th>\n",
       "      <td>(c2169e64140cbfcfa1eabe7d5fb1960e, 0.7)</td>\n",
       "      <td>178</td>\n",
       "    </tr>\n",
       "    <tr>\n",
       "      <th>9</th>\n",
       "      <td>(c6e9d893bc254ed5ce0a36152cc67a66, 0.7)</td>\n",
       "      <td>133</td>\n",
       "    </tr>\n",
       "  </tbody>\n",
       "</table>\n",
       "</div>"
      ],
      "text/plain": [
       "                                  Item_set  Support\n",
       "0                               (0.3, 0.7)    11775\n",
       "1                               (0.8, 0.7)     1579\n",
       "2  (d53b2de022666067050dae8f6645edc2, 0.7)      344\n",
       "3  (8918e32050c9e3bb2010a3a3747e3d24, 0.7)      343\n",
       "4  (addc364df8649d91eb69b709cd1829c3, 0.4)      234\n",
       "5  (f6b6e07e73e2084b3106e9ffe3d99f55, 0.3)      211\n",
       "6  (f397b4a15f85fd11bfabcc0af7658af1, 0.4)      206\n",
       "7  (91bd533b8654f2e0a8c243b2ffe7827f, 0.2)      181\n",
       "8  (c2169e64140cbfcfa1eabe7d5fb1960e, 0.7)      178\n",
       "9  (c6e9d893bc254ed5ce0a36152cc67a66, 0.7)      133"
      ]
     },
     "execution_count": 31,
     "metadata": {},
     "output_type": "execute_result"
    }
   ],
   "source": [
    "res = sorted(fim.fpgrowth(df_trans, target='s', report='a', supp=0.1, zmin=2),\n",
    "       key=lambda x: (-x[1]))\n",
    "\n",
    "df_itemset = (pd.DataFrame([(tuple(i[0]), i[1]) for i in res[0:10]],\n",
    "                           columns=['Item_set','Support']))\n",
    "\n",
    "df_itemset"
   ]
  },
  {
   "cell_type": "markdown",
   "metadata": {},
   "source": [
    "Some observations based on the results above:\n",
    "\n",
    "1. The top 2 most frequent itemsets are comprised purely of emotion score items: \n",
    "    - Itemset `(0.3, 0.7)` with a support count of `11,775`\n",
    "    - Itemset `(0.8, 0.7)` with a support count of `1,579`\n",
    "2. Mined frequent itemsets are representative of both negative and positive sentiments:\n",
    "    - Itemset `(d53b2de022666067050dae8f6645edc2, 0.7)` with a support count of `344`\n",
    "    - Itemset `(91bd533b8654f2e0a8c243b2ffe7827f, 0.2)` with a support count of `181`\n",
    "3. Top 5 song and emotion itemsets lean towards the negative end of the sentiment spectrum:\n",
    "    - Itemset `(d53b2de022666067050dae8f6645edc2, 0.7)` with a support count of `344`\n",
    "    - Itemset `(8918e32050c9e3bb2010a3a3747e3d24, 0.7)` with a support count of `343`\n",
    "    - Itemset `(addc364df8649d91eb69b709cd1829c3, 0.4)` with a support count of `234`\n",
    "    - Itemset `(f6b6e07e73e2084b3106e9ffe3d99f55, 0.3)` with a support count of `211`\n",
    "    - Itemset `(f397b4a15f85fd11bfabcc0af7658af1, 0.4)` with a support count of `206`\n",
    "  \n",
    "From these observations, we can generally say that the performed pattern mining was a success and we can definitely use emotion scores and played songs as item sets. We consider it was a success since we can interpret the found patterns and give actionable recommendations despite the songs being still in ID form. Some more specific inferences and recommendations are:\n",
    "\n",
    "1. Based observation 1 (high count of itemset `(0.3, 0.7)`), we can say that there are songs that can invoke emotions from both ends of the spectrum and that emotions felt in a unique listening event are not mutually exclusive. Applying these in the context of researchers, they would then know not to discount the possibility of a song invoking activity spikes in different areas of the brains.\n",
    "\n",
    "2. There are also songs that can synergize positive emotions felt, as evidenced by itemset `(0.8, 0.7)` with a support count of `1,579` (observation 1). Researchers can explore how this synergistic mechanism occurs in the brain and how it looks like in MRI / PET scans.\n",
    "\n",
    "3. Since the top 5 song and emotion itemsets (observation 3) are leaning to the negative end, it might be of value to the researchers to explore what is their effect to the brain and how it would differ from different patient demographics.\n"
   ]
  },
  {
   "cell_type": "markdown",
   "metadata": {},
   "source": [
    "## 6 Association Pattern Mining\n",
    "\n",
    "With the frequent itemset mining successful, we then try to find association rules. For this section, we are also using the  pyFIM library to leverage the optimized code. \n",
    "\n",
    "In the implementation below, we set the support to be at least 0.1% (relative support), which is the same value used in the FIM process. We used the same value for consistency relative to the FIM process. For the confidence, we set it to be at the default of 80% since we want a high conditional probability that the consequent is in the transaction given that the same transaction has the antecedent. \n",
    "\n",
    "Unlike in the performed FIM above though, we are setting the minimum number of items in an itemset to be 1 since we want to identify rules on the invoked emotion for a given song or set of songs. Setting it to higher than 1 might translate to missed out itemsets and potential rules."
   ]
  },
  {
   "cell_type": "code",
   "execution_count": 32,
   "metadata": {
    "ExecuteTime": {
     "end_time": "2020-11-02T06:35:20.747513Z",
     "start_time": "2020-11-02T06:35:20.658312Z"
    }
   },
   "outputs": [
    {
     "data": {
      "text/html": [
       "<div>\n",
       "<style scoped>\n",
       "    .dataframe tbody tr th:only-of-type {\n",
       "        vertical-align: middle;\n",
       "    }\n",
       "\n",
       "    .dataframe tbody tr th {\n",
       "        vertical-align: top;\n",
       "    }\n",
       "\n",
       "    .dataframe thead th {\n",
       "        text-align: right;\n",
       "    }\n",
       "</style>\n",
       "<table border=\"1\" class=\"dataframe\">\n",
       "  <thead>\n",
       "    <tr style=\"text-align: right;\">\n",
       "      <th></th>\n",
       "      <th>Antecedent</th>\n",
       "      <th>Consequent</th>\n",
       "      <th>Support</th>\n",
       "      <th>Confidence</th>\n",
       "      <th>Lift</th>\n",
       "    </tr>\n",
       "  </thead>\n",
       "  <tbody>\n",
       "    <tr>\n",
       "      <th>0</th>\n",
       "      <td>(6bfb55790293e0a9c94e39fe7039a902,)</td>\n",
       "      <td>0.500</td>\n",
       "      <td>81</td>\n",
       "      <td>1.000000</td>\n",
       "      <td>485.291971</td>\n",
       "    </tr>\n",
       "    <tr>\n",
       "      <th>1</th>\n",
       "      <td>(ef356d7f3dcb4772dec2e5310ae5c398,)</td>\n",
       "      <td>0.375</td>\n",
       "      <td>71</td>\n",
       "      <td>0.887500</td>\n",
       "      <td>368.783984</td>\n",
       "    </tr>\n",
       "    <tr>\n",
       "      <th>2</th>\n",
       "      <td>(addc364df8649d91eb69b709cd1829c3,)</td>\n",
       "      <td>0.400</td>\n",
       "      <td>234</td>\n",
       "      <td>1.000000</td>\n",
       "      <td>95.114449</td>\n",
       "    </tr>\n",
       "    <tr>\n",
       "      <th>3</th>\n",
       "      <td>(f397b4a15f85fd11bfabcc0af7658af1,)</td>\n",
       "      <td>0.400</td>\n",
       "      <td>206</td>\n",
       "      <td>1.000000</td>\n",
       "      <td>95.114449</td>\n",
       "    </tr>\n",
       "    <tr>\n",
       "      <th>4</th>\n",
       "      <td>(9b9adb5f4e4febc7d11e70bfbaf10fde,)</td>\n",
       "      <td>0.400</td>\n",
       "      <td>67</td>\n",
       "      <td>0.985294</td>\n",
       "      <td>93.715707</td>\n",
       "    </tr>\n",
       "    <tr>\n",
       "      <th>5</th>\n",
       "      <td>(91bd533b8654f2e0a8c243b2ffe7827f,)</td>\n",
       "      <td>0.200</td>\n",
       "      <td>181</td>\n",
       "      <td>1.000000</td>\n",
       "      <td>75.294451</td>\n",
       "    </tr>\n",
       "    <tr>\n",
       "      <th>6</th>\n",
       "      <td>(f6b6e07e73e2084b3106e9ffe3d99f55,)</td>\n",
       "      <td>0.300</td>\n",
       "      <td>211</td>\n",
       "      <td>1.000000</td>\n",
       "      <td>4.431742</td>\n",
       "    </tr>\n",
       "    <tr>\n",
       "      <th>7</th>\n",
       "      <td>(f34250f064d6edb087f43a1ce7a60c1b, 0.7)</td>\n",
       "      <td>0.300</td>\n",
       "      <td>130</td>\n",
       "      <td>1.000000</td>\n",
       "      <td>4.431742</td>\n",
       "    </tr>\n",
       "    <tr>\n",
       "      <th>8</th>\n",
       "      <td>(f34250f064d6edb087f43a1ce7a60c1b,)</td>\n",
       "      <td>0.300</td>\n",
       "      <td>130</td>\n",
       "      <td>1.000000</td>\n",
       "      <td>4.431742</td>\n",
       "    </tr>\n",
       "    <tr>\n",
       "      <th>9</th>\n",
       "      <td>(7fda909cd74e7173fb5b55fca3a25869,)</td>\n",
       "      <td>0.300</td>\n",
       "      <td>119</td>\n",
       "      <td>1.000000</td>\n",
       "      <td>4.431742</td>\n",
       "    </tr>\n",
       "    <tr>\n",
       "      <th>10</th>\n",
       "      <td>(689c3c918849879aeb3d1d33d6bde75b,)</td>\n",
       "      <td>0.300</td>\n",
       "      <td>110</td>\n",
       "      <td>1.000000</td>\n",
       "      <td>4.431742</td>\n",
       "    </tr>\n",
       "    <tr>\n",
       "      <th>11</th>\n",
       "      <td>(6e2c1c844b6551b77d894b1d5fc79113,)</td>\n",
       "      <td>0.300</td>\n",
       "      <td>108</td>\n",
       "      <td>1.000000</td>\n",
       "      <td>4.431742</td>\n",
       "    </tr>\n",
       "    <tr>\n",
       "      <th>12</th>\n",
       "      <td>(d606399217333eaf566338013c4f4b96,)</td>\n",
       "      <td>0.300</td>\n",
       "      <td>73</td>\n",
       "      <td>1.000000</td>\n",
       "      <td>4.431742</td>\n",
       "    </tr>\n",
       "    <tr>\n",
       "      <th>13</th>\n",
       "      <td>(8f6d446cb0a43a4fbd70850c99b3350b,)</td>\n",
       "      <td>0.300</td>\n",
       "      <td>102</td>\n",
       "      <td>0.990291</td>\n",
       "      <td>4.388716</td>\n",
       "    </tr>\n",
       "    <tr>\n",
       "      <th>14</th>\n",
       "      <td>(8f6d446cb0a43a4fbd70850c99b3350b, 0.7)</td>\n",
       "      <td>0.300</td>\n",
       "      <td>99</td>\n",
       "      <td>0.990000</td>\n",
       "      <td>4.387425</td>\n",
       "    </tr>\n",
       "  </tbody>\n",
       "</table>\n",
       "</div>"
      ],
      "text/plain": [
       "                                 Antecedent  Consequent  Support  Confidence  \\\n",
       "0       (6bfb55790293e0a9c94e39fe7039a902,)       0.500       81    1.000000   \n",
       "1       (ef356d7f3dcb4772dec2e5310ae5c398,)       0.375       71    0.887500   \n",
       "2       (addc364df8649d91eb69b709cd1829c3,)       0.400      234    1.000000   \n",
       "3       (f397b4a15f85fd11bfabcc0af7658af1,)       0.400      206    1.000000   \n",
       "4       (9b9adb5f4e4febc7d11e70bfbaf10fde,)       0.400       67    0.985294   \n",
       "5       (91bd533b8654f2e0a8c243b2ffe7827f,)       0.200      181    1.000000   \n",
       "6       (f6b6e07e73e2084b3106e9ffe3d99f55,)       0.300      211    1.000000   \n",
       "7   (f34250f064d6edb087f43a1ce7a60c1b, 0.7)       0.300      130    1.000000   \n",
       "8       (f34250f064d6edb087f43a1ce7a60c1b,)       0.300      130    1.000000   \n",
       "9       (7fda909cd74e7173fb5b55fca3a25869,)       0.300      119    1.000000   \n",
       "10      (689c3c918849879aeb3d1d33d6bde75b,)       0.300      110    1.000000   \n",
       "11      (6e2c1c844b6551b77d894b1d5fc79113,)       0.300      108    1.000000   \n",
       "12      (d606399217333eaf566338013c4f4b96,)       0.300       73    1.000000   \n",
       "13      (8f6d446cb0a43a4fbd70850c99b3350b,)       0.300      102    0.990291   \n",
       "14  (8f6d446cb0a43a4fbd70850c99b3350b, 0.7)       0.300       99    0.990000   \n",
       "\n",
       "          Lift  \n",
       "0   485.291971  \n",
       "1   368.783984  \n",
       "2    95.114449  \n",
       "3    95.114449  \n",
       "4    93.715707  \n",
       "5    75.294451  \n",
       "6     4.431742  \n",
       "7     4.431742  \n",
       "8     4.431742  \n",
       "9     4.431742  \n",
       "10    4.431742  \n",
       "11    4.431742  \n",
       "12    4.431742  \n",
       "13    4.388716  \n",
       "14    4.387425  "
      ]
     },
     "execution_count": 32,
     "metadata": {},
     "output_type": "execute_result"
    }
   ],
   "source": [
    "res = sorted(fim.arules(df_trans, supp=.1, conf=80, report='acl', zmin=1), \n",
    "                 key=lambda x: (-x[4],-x[3]))\n",
    "\n",
    "\n",
    "df_rules = (pd.DataFrame([(tuple(i[1]), i[0], i[2], i[3], i[4]) \n",
    "                          for i in res[:15]],\n",
    "                         columns=['Antecedent','Consequent','Support',\n",
    "                                  'Confidence','Lift']))\n",
    "\n",
    "df_rules"
   ]
  },
  {
   "cell_type": "markdown",
   "metadata": {},
   "source": [
    "From the results above we can see that the rules are in generally in the form of `song -> invoked emotion (score)`. The generated rules also have high confidence results, the lowest being `0.8875` for rule: `(ef356d7f3dcb4772dec2e5310ae5c398,) -> 0.375` The lift values for the rules are also greater than 1, meaning that there are indeed associations between the antecendents and their consequents. With these observations, we can say that the Association Pattern Mining was also successful.\n",
    "\n",
    "For the recommendations that we can make, we can take at the various rules and their lift values:\n",
    "\n",
    "1. Looking at the rule with the highest lift: `(6bfb55790293e0a9c94e39fe7039a902,) -> 0.500`, with a lift of `485.291971`, we can recommend to our end-users, the researchers, to verify whether making patients listen to this song invoke a neutral mood / emotion. They can record the mood prior to listening and see what the new emotion will be (if applicable) after listening to the song.\n",
    "\n",
    "2. Similar to recommendation 1 above, reseachers can also see the effectivity of song `ef356d7f3dcb4772dec2e5310ae5c398` in making people feel sad / negative emotions. They can also look at which parts of the brain change activity when going from a positive / neutral emotion to a negative emotion. This is based on the rule `(ef356d7f3dcb4772dec2e5310ae5c398,) -> 0.375` with a lift of `368.783984`.\n",
    "\n",
    "3. Interestingly, among the top rules generated above, there are no songs that invoke positive emotion (score of > 5.0). From the frequent itemset mining done, we found that itemset `(d53b2de022666067050dae8f6645edc2, 0.7)` has a support count of 344. The researchers can then test what would happen if they make sad / neutral feeling patients listen to song `d53b2de022666067050dae8f6645edc2` and whether it invokes a positive response or not. "
   ]
  },
  {
   "cell_type": "markdown",
   "metadata": {},
   "source": [
    "## 7 Conclusion and Recommendation\n",
    "\n",
    "In conclusion, we were able to develop a pipeline that utilizes tweets data in identifying patterns and rules between emotions and songs played. More specifically, the pipeline utilized the hastags in the tweet as proxy for the emotions of a particular user / listener, and the songs contained in the tweet as the song associated to a particular hashtag / emotion.\n",
    "\n",
    "In line with the original goal of utilizing FIM and APM techniques such that researchers in the fields of neuroscience, psychology, and physiology can adapt the project as a tool for guidance, we were successful. From the FIM results, we were able to recommend actions such as: \n",
    "1. Exploring songs that invoke different emotions and how it translates to brain activity\n",
    "2. Exploring how songs can potentially synergize positive emotions and identifying how this synergistic mechanism looks like in MRI / PET scans \n",
    "3. Exploring how songs associated with negative emotions affect the brain and different patient demographics\n",
    "\n",
    "From the APM results, we were also able to recommend some specific actions, unique to the context of this dataset, along the lines of verifying the validity of a rule in an experimental manner. For example, whether making patients listen to a song invoking sad emotions (`(ef356d7f3dcb4772dec2e5310ae5c398,) -> 0.375`, lift of `368.783984` would really translate to an invoked negative emotion in terms of brain activity.\n",
    "\n",
    "With the methodology and findings of this project, the researchers can then replicate or adapt the study using their own databases of emotion states and songs listened per patient. They can also tweak the methodology a little bit to fit their individual experiments / studies. From there, they can proceed to find actionable insights similar to how we developed and framed the recommendations using the `nowplaying-RS` dataset. This flexibility offers the researchers the ability to have guided insights before performing experiments, which can then cut down time, cost, and the required effort in performing preliminary studies.\n",
    "\n",
    "To further improve on the study, we recommend the usage of larger dataset with more time periods and more songs for better generalizability. The sequential context (e.g. time-series) of the listening events can also be factored in as we assumed in the study that the listening events have no sequential context. Furthermore, the musical characteristics of each song can also be factored in, there might be interesting insights and rules there that might not be captured just by using the track_id. Last but definitely the most important, consider using a database where the track titles are also available as it will greatly improve the interpretation of the mined patterns and rules."
   ]
  },
  {
   "cell_type": "markdown",
   "metadata": {},
   "source": [
    "## 8 References\n",
    "\n",
    "Poddar, A., Zangerie, E., & Yang, Y. (2018). #nowplaying-RS: A New Benchmark Dataset for Building Context-Aware Music Recommender Systems. *Proceedings of the 15th Sound & Music Computing Conference.* Retrieved from http://mac.citi.sinica.edu.tw/~yang/pub/poddar18smc.pdf <br>\n",
    "\n",
    "Schaefer, H. (2017). Music-Evoked Emotions—Current Studies. *Froniters in Neuroscience*. doi:10.3389/fnins.2017.00600\n",
    "\n"
   ]
  }
 ],
 "metadata": {
  "hide_input": false,
  "kernelspec": {
   "display_name": "Python 3",
   "language": "python",
   "name": "python3"
  },
  "language_info": {
   "codemirror_mode": {
    "name": "ipython",
    "version": 3
   },
   "file_extension": ".py",
   "mimetype": "text/x-python",
   "name": "python",
   "nbconvert_exporter": "python",
   "pygments_lexer": "ipython3",
   "version": "3.7.7"
  },
  "toc": {
   "base_numbering": 1,
   "nav_menu": {},
   "number_sections": false,
   "sideBar": true,
   "skip_h1_title": false,
   "title_cell": "Table of Contents",
   "title_sidebar": "Contents",
   "toc_cell": false,
   "toc_position": {
    "height": "calc(100% - 180px)",
    "left": "10px",
    "top": "150px",
    "width": "307.2px"
   },
   "toc_section_display": true,
   "toc_window_display": false
  }
 },
 "nbformat": 4,
 "nbformat_minor": 4
}
